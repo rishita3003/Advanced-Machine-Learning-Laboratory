{
  "cells": [
    {
      "cell_type": "code",
      "source": [
        "# This Python 3 environment comes with many helpful analytics libraries installed\n",
        "# It is defined by the kaggle/python Docker image: https://github.com/kaggle/docker-python\n",
        "# For example, here's several helpful packages to load\n",
        "\n",
        "import numpy as np # linear algebra\n",
        "import pandas as pd # data processing, CSV file I/O (e.g. pd.read_csv)\n",
        "\n",
        "# Input data files are available in the read-only \"../input/\" directory\n",
        "# For example, running this (by clicking run or pressing Shift+Enter) will list all files under the input directory\n",
        "\n",
        "import os\n",
        "for dirname, _, filenames in os.walk('/kaggle/input'):\n",
        "    for filename in filenames:\n",
        "        print(os.path.join(dirname, filename))\n",
        "\n",
        "# You can write up to 20GB to the current directory (/kaggle/working/) that gets preserved as output when you create a version using \"Save & Run All\" \n",
        "# You can also write temporary files to /kaggle/temp/, but they won't be saved outside of the current session"
      ],
      "outputs": [
        {
          "output_type": "stream",
          "name": "stdout",
          "text": "/kaggle/input/70k-job-applicants-data-human-resource/stackoverflow_full.csv\n"
        }
      ],
      "execution_count": 165,
      "metadata": {
        "_uuid": "8f2839f25d086af736a60e9eeb907d3b93b6e0e5",
        "_cell_guid": "b1076dfc-b9ad-4769-8c92-a6c4dae69d19",
        "trusted": true,
        "execution": {
          "iopub.status.busy": "2025-01-08T06:16:22.193089Z",
          "iopub.execute_input": "2025-01-08T06:16:22.193461Z",
          "iopub.status.idle": "2025-01-08T06:16:22.202089Z",
          "shell.execute_reply.started": "2025-01-08T06:16:22.193433Z",
          "shell.execute_reply": "2025-01-08T06:16:22.200996Z"
        }
      }
    },
    {
      "cell_type": "markdown",
      "source": [
        "# Q1)"
      ],
      "metadata": {}
    },
    {
      "cell_type": "markdown",
      "source": [
        "## Import dataset"
      ],
      "metadata": {}
    },
    {
      "cell_type": "code",
      "source": [
        "from sklearn.datasets import load_iris\n",
        "iris = load_iris()\n",
        "X = iris.data\n",
        "y = iris.target"
      ],
      "outputs": [],
      "execution_count": 87,
      "metadata": {
        "trusted": true,
        "execution": {
          "iopub.status.busy": "2025-01-08T04:44:31.193987Z",
          "iopub.execute_input": "2025-01-08T04:44:31.194360Z",
          "iopub.status.idle": "2025-01-08T04:44:31.201248Z",
          "shell.execute_reply.started": "2025-01-08T04:44:31.194332Z",
          "shell.execute_reply": "2025-01-08T04:44:31.199945Z"
        }
      }
    },
    {
      "cell_type": "code",
      "source": [
        "X,y"
      ],
      "outputs": [
        {
          "output_type": "execute_result",
          "execution_count": 78,
          "data": {
            "text/plain": "(array([[5.1, 3.5, 1.4, 0.2],\n        [4.9, 3. , 1.4, 0.2],\n        [4.7, 3.2, 1.3, 0.2],\n        [4.6, 3.1, 1.5, 0.2],\n        [5. , 3.6, 1.4, 0.2],\n        [5.4, 3.9, 1.7, 0.4],\n        [4.6, 3.4, 1.4, 0.3],\n        [5. , 3.4, 1.5, 0.2],\n        [4.4, 2.9, 1.4, 0.2],\n        [4.9, 3.1, 1.5, 0.1],\n        [5.4, 3.7, 1.5, 0.2],\n        [4.8, 3.4, 1.6, 0.2],\n        [4.8, 3. , 1.4, 0.1],\n        [4.3, 3. , 1.1, 0.1],\n        [5.8, 4. , 1.2, 0.2],\n        [5.7, 4.4, 1.5, 0.4],\n        [5.4, 3.9, 1.3, 0.4],\n        [5.1, 3.5, 1.4, 0.3],\n        [5.7, 3.8, 1.7, 0.3],\n        [5.1, 3.8, 1.5, 0.3],\n        [5.4, 3.4, 1.7, 0.2],\n        [5.1, 3.7, 1.5, 0.4],\n        [4.6, 3.6, 1. , 0.2],\n        [5.1, 3.3, 1.7, 0.5],\n        [4.8, 3.4, 1.9, 0.2],\n        [5. , 3. , 1.6, 0.2],\n        [5. , 3.4, 1.6, 0.4],\n        [5.2, 3.5, 1.5, 0.2],\n        [5.2, 3.4, 1.4, 0.2],\n        [4.7, 3.2, 1.6, 0.2],\n        [4.8, 3.1, 1.6, 0.2],\n        [5.4, 3.4, 1.5, 0.4],\n        [5.2, 4.1, 1.5, 0.1],\n        [5.5, 4.2, 1.4, 0.2],\n        [4.9, 3.1, 1.5, 0.2],\n        [5. , 3.2, 1.2, 0.2],\n        [5.5, 3.5, 1.3, 0.2],\n        [4.9, 3.6, 1.4, 0.1],\n        [4.4, 3. , 1.3, 0.2],\n        [5.1, 3.4, 1.5, 0.2],\n        [5. , 3.5, 1.3, 0.3],\n        [4.5, 2.3, 1.3, 0.3],\n        [4.4, 3.2, 1.3, 0.2],\n        [5. , 3.5, 1.6, 0.6],\n        [5.1, 3.8, 1.9, 0.4],\n        [4.8, 3. , 1.4, 0.3],\n        [5.1, 3.8, 1.6, 0.2],\n        [4.6, 3.2, 1.4, 0.2],\n        [5.3, 3.7, 1.5, 0.2],\n        [5. , 3.3, 1.4, 0.2],\n        [7. , 3.2, 4.7, 1.4],\n        [6.4, 3.2, 4.5, 1.5],\n        [6.9, 3.1, 4.9, 1.5],\n        [5.5, 2.3, 4. , 1.3],\n        [6.5, 2.8, 4.6, 1.5],\n        [5.7, 2.8, 4.5, 1.3],\n        [6.3, 3.3, 4.7, 1.6],\n        [4.9, 2.4, 3.3, 1. ],\n        [6.6, 2.9, 4.6, 1.3],\n        [5.2, 2.7, 3.9, 1.4],\n        [5. , 2. , 3.5, 1. ],\n        [5.9, 3. , 4.2, 1.5],\n        [6. , 2.2, 4. , 1. ],\n        [6.1, 2.9, 4.7, 1.4],\n        [5.6, 2.9, 3.6, 1.3],\n        [6.7, 3.1, 4.4, 1.4],\n        [5.6, 3. , 4.5, 1.5],\n        [5.8, 2.7, 4.1, 1. ],\n        [6.2, 2.2, 4.5, 1.5],\n        [5.6, 2.5, 3.9, 1.1],\n        [5.9, 3.2, 4.8, 1.8],\n        [6.1, 2.8, 4. , 1.3],\n        [6.3, 2.5, 4.9, 1.5],\n        [6.1, 2.8, 4.7, 1.2],\n        [6.4, 2.9, 4.3, 1.3],\n        [6.6, 3. , 4.4, 1.4],\n        [6.8, 2.8, 4.8, 1.4],\n        [6.7, 3. , 5. , 1.7],\n        [6. , 2.9, 4.5, 1.5],\n        [5.7, 2.6, 3.5, 1. ],\n        [5.5, 2.4, 3.8, 1.1],\n        [5.5, 2.4, 3.7, 1. ],\n        [5.8, 2.7, 3.9, 1.2],\n        [6. , 2.7, 5.1, 1.6],\n        [5.4, 3. , 4.5, 1.5],\n        [6. , 3.4, 4.5, 1.6],\n        [6.7, 3.1, 4.7, 1.5],\n        [6.3, 2.3, 4.4, 1.3],\n        [5.6, 3. , 4.1, 1.3],\n        [5.5, 2.5, 4. , 1.3],\n        [5.5, 2.6, 4.4, 1.2],\n        [6.1, 3. , 4.6, 1.4],\n        [5.8, 2.6, 4. , 1.2],\n        [5. , 2.3, 3.3, 1. ],\n        [5.6, 2.7, 4.2, 1.3],\n        [5.7, 3. , 4.2, 1.2],\n        [5.7, 2.9, 4.2, 1.3],\n        [6.2, 2.9, 4.3, 1.3],\n        [5.1, 2.5, 3. , 1.1],\n        [5.7, 2.8, 4.1, 1.3],\n        [6.3, 3.3, 6. , 2.5],\n        [5.8, 2.7, 5.1, 1.9],\n        [7.1, 3. , 5.9, 2.1],\n        [6.3, 2.9, 5.6, 1.8],\n        [6.5, 3. , 5.8, 2.2],\n        [7.6, 3. , 6.6, 2.1],\n        [4.9, 2.5, 4.5, 1.7],\n        [7.3, 2.9, 6.3, 1.8],\n        [6.7, 2.5, 5.8, 1.8],\n        [7.2, 3.6, 6.1, 2.5],\n        [6.5, 3.2, 5.1, 2. ],\n        [6.4, 2.7, 5.3, 1.9],\n        [6.8, 3. , 5.5, 2.1],\n        [5.7, 2.5, 5. , 2. ],\n        [5.8, 2.8, 5.1, 2.4],\n        [6.4, 3.2, 5.3, 2.3],\n        [6.5, 3. , 5.5, 1.8],\n        [7.7, 3.8, 6.7, 2.2],\n        [7.7, 2.6, 6.9, 2.3],\n        [6. , 2.2, 5. , 1.5],\n        [6.9, 3.2, 5.7, 2.3],\n        [5.6, 2.8, 4.9, 2. ],\n        [7.7, 2.8, 6.7, 2. ],\n        [6.3, 2.7, 4.9, 1.8],\n        [6.7, 3.3, 5.7, 2.1],\n        [7.2, 3.2, 6. , 1.8],\n        [6.2, 2.8, 4.8, 1.8],\n        [6.1, 3. , 4.9, 1.8],\n        [6.4, 2.8, 5.6, 2.1],\n        [7.2, 3. , 5.8, 1.6],\n        [7.4, 2.8, 6.1, 1.9],\n        [7.9, 3.8, 6.4, 2. ],\n        [6.4, 2.8, 5.6, 2.2],\n        [6.3, 2.8, 5.1, 1.5],\n        [6.1, 2.6, 5.6, 1.4],\n        [7.7, 3. , 6.1, 2.3],\n        [6.3, 3.4, 5.6, 2.4],\n        [6.4, 3.1, 5.5, 1.8],\n        [6. , 3. , 4.8, 1.8],\n        [6.9, 3.1, 5.4, 2.1],\n        [6.7, 3.1, 5.6, 2.4],\n        [6.9, 3.1, 5.1, 2.3],\n        [5.8, 2.7, 5.1, 1.9],\n        [6.8, 3.2, 5.9, 2.3],\n        [6.7, 3.3, 5.7, 2.5],\n        [6.7, 3. , 5.2, 2.3],\n        [6.3, 2.5, 5. , 1.9],\n        [6.5, 3. , 5.2, 2. ],\n        [6.2, 3.4, 5.4, 2.3],\n        [5.9, 3. , 5.1, 1.8]]),\n array([0, 0, 0, 0, 0, 0, 0, 0, 0, 0, 0, 0, 0, 0, 0, 0, 0, 0, 0, 0, 0, 0,\n        0, 0, 0, 0, 0, 0, 0, 0, 0, 0, 0, 0, 0, 0, 0, 0, 0, 0, 0, 0, 0, 0,\n        0, 0, 0, 0, 0, 0, 1, 1, 1, 1, 1, 1, 1, 1, 1, 1, 1, 1, 1, 1, 1, 1,\n        1, 1, 1, 1, 1, 1, 1, 1, 1, 1, 1, 1, 1, 1, 1, 1, 1, 1, 1, 1, 1, 1,\n        1, 1, 1, 1, 1, 1, 1, 1, 1, 1, 1, 1, 2, 2, 2, 2, 2, 2, 2, 2, 2, 2,\n        2, 2, 2, 2, 2, 2, 2, 2, 2, 2, 2, 2, 2, 2, 2, 2, 2, 2, 2, 2, 2, 2,\n        2, 2, 2, 2, 2, 2, 2, 2, 2, 2, 2, 2, 2, 2, 2, 2, 2, 2]))"
          },
          "metadata": {}
        }
      ],
      "execution_count": 78,
      "metadata": {
        "trusted": true,
        "execution": {
          "iopub.status.busy": "2025-01-08T04:42:52.182958Z",
          "iopub.execute_input": "2025-01-08T04:42:52.183304Z",
          "iopub.status.idle": "2025-01-08T04:42:52.206336Z",
          "shell.execute_reply.started": "2025-01-08T04:42:52.183276Z",
          "shell.execute_reply": "2025-01-08T04:42:52.205124Z"
        }
      }
    },
    {
      "cell_type": "code",
      "source": [
        "from sklearn.model_selection import train_test_split\n",
        "X_train, X_test, y_train, y_test = train_test_split(X, y, test_size=0.3, random_state=42) # 80% training data and 20% test data"
      ],
      "outputs": [],
      "execution_count": 79,
      "metadata": {
        "trusted": true,
        "execution": {
          "iopub.status.busy": "2025-01-08T04:42:52.207878Z",
          "iopub.execute_input": "2025-01-08T04:42:52.208445Z",
          "iopub.status.idle": "2025-01-08T04:42:52.226161Z",
          "shell.execute_reply.started": "2025-01-08T04:42:52.208391Z",
          "shell.execute_reply": "2025-01-08T04:42:52.225126Z"
        }
      }
    },
    {
      "cell_type": "markdown",
      "source": [
        "## 1. Random Forest"
      ],
      "metadata": {}
    },
    {
      "cell_type": "markdown",
      "source": [
        "## From Scratch"
      ],
      "metadata": {}
    },
    {
      "cell_type": "code",
      "source": [
        "# Gini impurity calculation\n",
        "\n",
        "def gini(y):\n",
        "    _, counts = np.unique(y, return_counts=True)\n",
        "    probabilities = counts / counts.sum()\n",
        "    return 1 - np.sum(np.square(probabilities))\n",
        "\n",
        "\n",
        "# Information gain using Gini impurity\n",
        "\n",
        "def gini_gain(X_column, y, threshold):\n",
        "    # Create split\n",
        "    left_mask = X_column < threshold\n",
        "    right_mask = ~left_mask\n",
        "\n",
        "    left_y = y[left_mask]\n",
        "    right_y = y[right_mask]\n",
        "\n",
        "    left_impurity = gini(left_y)\n",
        "    right_impurity = gini(right_y)\n",
        "\n",
        "    n = len(y)\n",
        "    n_left = len(left_y)\n",
        "    n_right = len(right_y)\n",
        "\n",
        "    # Weighted impurity\n",
        "    weighted_impurity = (n_left / n) * left_impurity + (n_right / n) * right_impurity\n",
        "\n",
        "    return gini(y) - weighted_impurity\n",
        "\n",
        "\n",
        "# CART Decision Tree class\n",
        "\n",
        "class CARTTree:\n",
        "    def __init__(self, max_depth=5, max_features=None):\n",
        "        self.max_depth = max_depth\n",
        "        self.tree = None\n",
        "        self.max_features = max_features\n",
        "\n",
        "    def fit(self, X, y):\n",
        "        self.tree = self._grow_tree(X, y)\n",
        "\n",
        "    def _grow_tree(self, X, y, depth=0):\n",
        "        num_samples, num_features = X.shape\n",
        "        if depth >= self.max_depth or len(np.unique(y)) == 1:\n",
        "            return np.bincount(y).argmax()  # Return the most common target class\n",
        "        \n",
        "        # Selecting the best split\n",
        "        best_gain = -1\n",
        "        split_idx, split_threshold = None, None\n",
        "        for feature_index in range(num_features):\n",
        "            thresholds = np.unique(X[:, feature_index])\n",
        "            for threshold in thresholds:\n",
        "                gain = gini_gain(X[:, feature_index], y, threshold)\n",
        "                if gain > best_gain:\n",
        "                    best_gain = gain\n",
        "                    split_idx = feature_index\n",
        "                    split_threshold = threshold\n",
        "\n",
        "        if best_gain == -1:\n",
        "            return np.bincount(y).argmax()  # Return the most common target class\n",
        "\n",
        "        # Recursively grow the tree\n",
        "        left_mask = X[:, split_idx] < split_threshold\n",
        "        right_mask = ~left_mask\n",
        "        left_subtree = self._grow_tree(X[left_mask], y[left_mask], depth + 1)\n",
        "        right_subtree = self._grow_tree(X[right_mask], y[right_mask], depth + 1)\n",
        "\n",
        "        # Return a node dictionary\n",
        "        return {\"feature_index\": split_idx, \"threshold\": split_threshold, \"left\": left_subtree, \"right\": right_subtree}\n",
        "\n",
        "    def _predict(self, x, tree):\n",
        "        if not isinstance(tree, dict):\n",
        "            return tree\n",
        "        feature_idx = tree['feature_index']\n",
        "        threshold = tree['threshold']\n",
        "        if x[feature_idx] < threshold:\n",
        "            return self._predict(x, tree['left'])\n",
        "        else:\n",
        "            return self._predict(x, tree['right'])\n",
        "\n",
        "    def predict(self, X):\n",
        "        return np.array([self._predict(x, self.tree) for x in X])"
      ],
      "outputs": [],
      "execution_count": 80,
      "metadata": {
        "trusted": true,
        "execution": {
          "iopub.status.busy": "2025-01-08T04:42:52.227235Z",
          "iopub.execute_input": "2025-01-08T04:42:52.227688Z",
          "iopub.status.idle": "2025-01-08T04:42:52.248356Z",
          "shell.execute_reply.started": "2025-01-08T04:42:52.227646Z",
          "shell.execute_reply": "2025-01-08T04:42:52.246898Z"
        }
      }
    },
    {
      "cell_type": "code",
      "source": [
        "# Random Forest class\n",
        "\n",
        "class RandomForest:\n",
        "\n",
        "    def __init__(self, num_trees=10, max_depth=10, max_features=None):\n",
        "\n",
        "        self.num_trees = num_trees\n",
        "\n",
        "        self.max_depth = max_depth\n",
        "\n",
        "        self.max_features = max_features\n",
        "\n",
        "        self.trees = []\n",
        "        \n",
        "\n",
        "    def _bootstrap_sample(self, X, y):\n",
        "        n_samples = X.shape[0]\n",
        "        idxs = np.random.choice(n_samples, size=n_samples, replace=True)\n",
        "        return X[idxs], y[idxs]\n",
        "\n",
        "\n",
        "    def fit(self, X, y):\n",
        "        self.trees = []\n",
        "        for _ in range(self.num_trees):\n",
        "            tree = CARTTree(max_depth=self.max_depth, max_features=self.max_features)\n",
        "            X_sample, y_sample = self._bootstrap_sample(X, y)\n",
        "            tree.fit(X_sample, y_sample)\n",
        "            self.trees.append(tree)\n",
        "\n",
        "\n",
        "    def _predict_tree(self, x):\n",
        "     tree_predictions = [tree._predict(x, tree.tree) for tree in self.trees]\n",
        "     return np.bincount(tree_predictions).argmax()  # Majority vote\n",
        "\n",
        "\n",
        "    def predict(self, X):\n",
        "        return np.array([self._predict_tree(x) for x in X])\n"
      ],
      "outputs": [],
      "execution_count": 81,
      "metadata": {
        "trusted": true,
        "execution": {
          "iopub.status.busy": "2025-01-08T04:42:52.249636Z",
          "iopub.execute_input": "2025-01-08T04:42:52.250055Z",
          "iopub.status.idle": "2025-01-08T04:42:52.275882Z",
          "shell.execute_reply.started": "2025-01-08T04:42:52.249994Z",
          "shell.execute_reply": "2025-01-08T04:42:52.274607Z"
        }
      }
    },
    {
      "cell_type": "code",
      "source": [
        "# Train the Random Forest on breast cancer dataset\n",
        "\n",
        "random_forest = RandomForest()\n",
        "\n",
        "random_forest.fit(X_train, y_train)\n",
        "\n",
        "\n",
        "\n",
        "# Predict on the test set\n",
        "\n",
        "rf_predictions = random_forest.predict(X_test)\n",
        "\n",
        "\n",
        "\n",
        "# Calculate accuracy\n",
        "\n",
        "accuracy = np.mean(rf_predictions == y_test)\n",
        "\n",
        "print(\"Random Forest Accuracy on Iris Dataset:\", accuracy)"
      ],
      "outputs": [
        {
          "output_type": "stream",
          "name": "stdout",
          "text": "Random Forest Accuracy on Iris Dataset: 1.0\n"
        }
      ],
      "execution_count": 82,
      "metadata": {
        "trusted": true,
        "execution": {
          "iopub.status.busy": "2025-01-08T04:42:52.296309Z",
          "iopub.execute_input": "2025-01-08T04:42:52.296821Z",
          "iopub.status.idle": "2025-01-08T04:42:52.598033Z",
          "shell.execute_reply.started": "2025-01-08T04:42:52.296773Z",
          "shell.execute_reply": "2025-01-08T04:42:52.596753Z"
        }
      }
    },
    {
      "cell_type": "markdown",
      "source": [
        "## sklearn"
      ],
      "metadata": {}
    },
    {
      "cell_type": "code",
      "source": [
        "from sklearn.ensemble import RandomForestClassifier\n",
        "\n",
        "clf = RandomForestClassifier(max_depth=2, random_state=0)\n",
        "\n",
        "clf.fit(X_train, y_train)\n",
        "RandomForestClassifier(...)\n",
        "y_pred = clf.predict(X_test)\n",
        "print(y_pred)"
      ],
      "outputs": [
        {
          "output_type": "stream",
          "name": "stdout",
          "text": "[1 0 2 1 1 0 1 2 1 1 2 0 0 0 0 1 2 1 1 2 0 2 0 2 2 2 2 2 0 0 0 0 1 0 0 2 1\n 0 0 0 2 1 1 0 0]\n"
        }
      ],
      "execution_count": 100,
      "metadata": {
        "trusted": true,
        "execution": {
          "iopub.status.busy": "2025-01-08T04:51:22.852677Z",
          "iopub.execute_input": "2025-01-08T04:51:22.853089Z",
          "iopub.status.idle": "2025-01-08T04:51:23.025509Z",
          "shell.execute_reply.started": "2025-01-08T04:51:22.853054Z",
          "shell.execute_reply": "2025-01-08T04:51:23.024518Z"
        }
      }
    },
    {
      "cell_type": "code",
      "source": [
        "# Calculate accuracy\n",
        "\n",
        "accuracy = np.mean(y_pred == y_test)\n",
        "\n",
        "print(\"Random Forest Accuracy on Iris Dataset:\", accuracy)"
      ],
      "outputs": [
        {
          "output_type": "stream",
          "name": "stdout",
          "text": "Random Forest Accuracy on Iris Dataset: 1.0\n"
        }
      ],
      "execution_count": 101,
      "metadata": {
        "trusted": true,
        "execution": {
          "iopub.status.busy": "2025-01-08T04:51:28.641881Z",
          "iopub.execute_input": "2025-01-08T04:51:28.642260Z",
          "iopub.status.idle": "2025-01-08T04:51:28.648974Z",
          "shell.execute_reply.started": "2025-01-08T04:51:28.642231Z",
          "shell.execute_reply": "2025-01-08T04:51:28.647432Z"
        }
      }
    },
    {
      "cell_type": "markdown",
      "source": [
        "### Both have accuracy 1"
      ],
      "metadata": {}
    },
    {
      "cell_type": "markdown",
      "source": [
        "## 2. SVM"
      ],
      "metadata": {}
    },
    {
      "cell_type": "markdown",
      "source": [
        "## From scratch"
      ],
      "metadata": {}
    },
    {
      "cell_type": "code",
      "source": [
        "df = pd.DataFrame(data=iris.data, columns=iris.feature_names)\n",
        "df[\"target\"] = iris.target\n",
        "df\n",
        "X = df.drop(columns = [\"target\"])\n",
        "y = df[\"target\"]\n",
        "X_train, X_test, y_train, y_test = train_test_split(X, y, test_size=0.3, random_state=42) # 80% training data and 20% test data"
      ],
      "outputs": [],
      "execution_count": 88,
      "metadata": {
        "trusted": true,
        "execution": {
          "iopub.status.busy": "2025-01-08T04:45:55.250466Z",
          "iopub.execute_input": "2025-01-08T04:45:55.250840Z",
          "iopub.status.idle": "2025-01-08T04:45:55.261224Z",
          "shell.execute_reply.started": "2025-01-08T04:45:55.250810Z",
          "shell.execute_reply": "2025-01-08T04:45:55.259887Z"
        }
      }
    },
    {
      "cell_type": "code",
      "source": [
        "\n",
        "# SVM Parameters\n",
        "class LinearSVM:\n",
        "    def __init__(self, learning_rate=0.01, num_iterations=1000, C=1.0):\n",
        "        self.alpha = learning_rate\n",
        "        self.num_iter = num_iterations\n",
        "        self.C = C\n",
        "        # Initialize weights and bias\n",
        "        self.W = None\n",
        "        self.b = None\n",
        "\n",
        "    def fit(self, X, y):\n",
        "        num_samples, num_features = X.shape\n",
        "        # Initialize weights and bias\n",
        "        self.W = np.zeros(num_features)\n",
        "        self.b = 0\n",
        "\n",
        "        for _ in range(self.num_iter):\n",
        "            loss = self.hinge_loss(self.W, self.b, X, y)\n",
        "            grad_W, grad_b = self.gradient(X, y)\n",
        "            \n",
        "            self.W = self.W - self.alpha * grad_W\n",
        "            self.b = self.b - self.alpha * grad_b\n",
        "            \n",
        "\n",
        "    # Hinge Loss function\n",
        "    def hinge_loss(self, w, b, X, y):\n",
        "        distances = 1 - y * (np.dot(X, w) + b)\n",
        "        loss = self.C*np.sum(np.maximum(0, distances))  # hinge loss\n",
        "        reg_loss = np.dot(w, w)  # Regularization term\n",
        "        return loss + reg_loss\n",
        "        \n",
        "    # Gradient Descent Update\n",
        "    def gradient(self, X, y):\n",
        "        grad_W = np.zeros(len(self.W))\n",
        "        grad_b = 0\n",
        "\n",
        "        for i in range(len(y)):\n",
        "            if y[i] * (np.dot(X[i], self.W) + self.b) < 1:\n",
        "                grad_W = grad_W - y[i] * X[i]\n",
        "                grad_b = grad_b - y[i]\n",
        "            else:\n",
        "                grad_W = grad_W + (1/ (2*(self.C)) )* self.W\n",
        "        \n",
        "        # Average gradients and include regularization term\n",
        "        #grad_b = grad_b / X.shape[0]  # Average bias gradient\n",
        "        #grad_W = grad_W / X.shape[0]\n",
        "        \n",
        "        return grad_W, grad_b\n",
        "\n",
        "    # Prediction Function\n",
        "    def predict(self, X):\n",
        "        linear_output = np.dot(X, self.W) + self.b\n",
        "        return np.where(linear_output >= 0, 1, -1)\n",
        "\n",
        "    # Evaluation\n",
        "    def evaluate(self, X_test, y_test):\n",
        "        predictions = self.predict(X_test)\n",
        "        accuracy = np.mean(predictions == y_test)\n",
        "        return (predictions, accuracy)\n"
      ],
      "outputs": [],
      "execution_count": 162,
      "metadata": {
        "trusted": true,
        "execution": {
          "iopub.status.busy": "2025-01-08T05:56:19.785110Z",
          "iopub.execute_input": "2025-01-08T05:56:19.785519Z",
          "iopub.status.idle": "2025-01-08T05:56:19.800252Z",
          "shell.execute_reply.started": "2025-01-08T05:56:19.785492Z",
          "shell.execute_reply": "2025-01-08T05:56:19.798375Z"
        }
      }
    },
    {
      "cell_type": "code",
      "source": [
        "svm = LinearSVM(learning_rate=0.001, num_iterations=1000)\n",
        "svm.fit(X_train.values, y_train.values)"
      ],
      "outputs": [],
      "execution_count": 163,
      "metadata": {
        "trusted": true,
        "execution": {
          "iopub.status.busy": "2025-01-08T05:57:47.983929Z",
          "iopub.execute_input": "2025-01-08T05:57:47.984345Z",
          "iopub.status.idle": "2025-01-08T05:57:49.380632Z",
          "shell.execute_reply.started": "2025-01-08T05:57:47.984316Z",
          "shell.execute_reply": "2025-01-08T05:57:49.379594Z"
        }
      }
    },
    {
      "cell_type": "markdown",
      "source": [
        "### Predictions"
      ],
      "metadata": {}
    },
    {
      "cell_type": "code",
      "source": [
        "y_pred = svm.predict(X_test)\n",
        "print(\"Accuracy for SVM model: \", np.mean(y_pred == y_test))"
      ],
      "outputs": [
        {
          "output_type": "stream",
          "name": "stdout",
          "text": "Accuracy for SVM model:  0.9111111111111111\n"
        }
      ],
      "execution_count": 164,
      "metadata": {
        "trusted": true,
        "execution": {
          "iopub.status.busy": "2025-01-08T05:59:38.658280Z",
          "iopub.execute_input": "2025-01-08T05:59:38.658706Z",
          "iopub.status.idle": "2025-01-08T05:59:38.666799Z",
          "shell.execute_reply.started": "2025-01-08T05:59:38.658672Z",
          "shell.execute_reply": "2025-01-08T05:59:38.665637Z"
        }
      }
    },
    {
      "cell_type": "markdown",
      "source": [
        "## Using sklearn library"
      ],
      "metadata": {}
    },
    {
      "cell_type": "code",
      "source": [
        "from sklearn.svm import SVC\n",
        "from sklearn.metrics import accuracy_score\n",
        "\n",
        "svm_ovo = SVC(decision_function_shape='ovo')\n",
        "svm_ovo.fit(X_train, y_train)\n",
        "\n",
        "# Predict and evaluate the One-vs-One model\n",
        "y_pred_ovo = svm_ovo.predict(X_test)\n",
        "print(\"One-vs-One Accuracy:\", accuracy_score(y_test, y_pred_ovo))"
      ],
      "outputs": [
        {
          "output_type": "stream",
          "name": "stdout",
          "text": "One-vs-One Accuracy: 1.0\n"
        }
      ],
      "execution_count": 97,
      "metadata": {
        "trusted": true,
        "execution": {
          "iopub.status.busy": "2025-01-08T04:46:16.514696Z",
          "iopub.execute_input": "2025-01-08T04:46:16.515132Z",
          "iopub.status.idle": "2025-01-08T04:46:16.528368Z",
          "shell.execute_reply.started": "2025-01-08T04:46:16.515081Z",
          "shell.execute_reply": "2025-01-08T04:46:16.527133Z"
        }
      }
    },
    {
      "cell_type": "code",
      "source": [
        "# Initialize the SVM classifier with One-vs-All strategy\n",
        "svm_ova = SVC(decision_function_shape='ovr')\n",
        "svm_ova.fit(X_train, y_train)\n",
        "\n",
        "# Predict and evaluate the One-vs-All model\n",
        "y_pred_ova = svm_ova.predict(X_test)\n",
        "print(\"One-vs-All Accuracy:\", accuracy_score(y_test, y_pred_ova))"
      ],
      "outputs": [
        {
          "output_type": "stream",
          "name": "stdout",
          "text": "One-vs-All Accuracy: 1.0\n"
        }
      ],
      "execution_count": 98,
      "metadata": {
        "trusted": true,
        "execution": {
          "iopub.status.busy": "2025-01-08T04:46:17.506835Z",
          "iopub.execute_input": "2025-01-08T04:46:17.507247Z",
          "iopub.status.idle": "2025-01-08T04:46:17.520872Z",
          "shell.execute_reply.started": "2025-01-08T04:46:17.507215Z",
          "shell.execute_reply": "2025-01-08T04:46:17.519472Z"
        }
      }
    },
    {
      "cell_type": "markdown",
      "source": [
        "## Classification Tree"
      ],
      "metadata": {}
    },
    {
      "cell_type": "markdown",
      "source": [
        "## Scratch"
      ],
      "metadata": {}
    },
    {
      "cell_type": "code",
      "source": [
        "cart_tree = CARTTree()\n",
        "\n",
        "cart_tree.fit(X_train, y_train)\n",
        "\n",
        "\n",
        "\n",
        "# Predict on training data\n",
        "\n",
        "predictions = cart_tree.predict(X_test)\n",
        "\n",
        "\n",
        "\n",
        "# Calculate accuracy\n",
        "\n",
        "accuracy = np.mean(predictions == y_test)\n",
        "\n",
        "print(\"CART Decision Tree Accuracy on Iris Dataset:\", accuracy)"
      ],
      "outputs": [
        {
          "output_type": "stream",
          "name": "stdout",
          "text": "CART Decision Tree Accuracy on Iris Dataset: 0.9777777777777777\n"
        }
      ],
      "execution_count": 86,
      "metadata": {
        "trusted": true,
        "execution": {
          "iopub.status.busy": "2025-01-08T04:43:25.914120Z",
          "iopub.execute_input": "2025-01-08T04:43:25.914475Z",
          "iopub.status.idle": "2025-01-08T04:43:25.947240Z",
          "shell.execute_reply.started": "2025-01-08T04:43:25.914440Z",
          "shell.execute_reply": "2025-01-08T04:43:25.946101Z"
        }
      }
    },
    {
      "cell_type": "markdown",
      "source": [
        "## Sklearn"
      ],
      "metadata": {}
    },
    {
      "cell_type": "code",
      "source": [
        "\n",
        "from sklearn.tree import DecisionTreeClassifier\n",
        "\n",
        "clf = DecisionTreeClassifier(random_state=0)\n",
        "clf.fit(X_train, y_train)\n",
        "y_pred = clf.predict(X_test)\n",
        "accuracy = np.mean(y_pred == y_test)\n",
        "print(accuracy)"
      ],
      "outputs": [
        {
          "output_type": "stream",
          "name": "stdout",
          "text": "1.0\n"
        }
      ],
      "execution_count": 102,
      "metadata": {
        "trusted": true,
        "execution": {
          "iopub.status.busy": "2025-01-08T04:56:01.106143Z",
          "iopub.execute_input": "2025-01-08T04:56:01.106503Z",
          "iopub.status.idle": "2025-01-08T04:56:01.118822Z",
          "shell.execute_reply.started": "2025-01-08T04:56:01.106476Z",
          "shell.execute_reply": "2025-01-08T04:56:01.117441Z"
        }
      }
    },
    {
      "cell_type": "markdown",
      "source": [
        "## 4. Logistic Regression\n",
        "\n"
      ],
      "metadata": {}
    },
    {
      "cell_type": "markdown",
      "source": [
        "## Scratch"
      ],
      "metadata": {}
    },
    {
      "cell_type": "code",
      "source": [
        "import numpy as np\n",
        "\n",
        "class LogisticRegression:\n",
        "    def __init__(self, learning_rate=0.01, epochs=1000):\n",
        "        self.learning_rate = learning_rate\n",
        "        self.epochs = epochs\n",
        "        self.weights = None\n",
        "        self.bias = None\n",
        "        self.num_classes = None\n",
        "    \n",
        "    def sigmoid(self, z):\n",
        "        return 1 / (1 + np.exp(-z))\n",
        "\n",
        "    def fit(self, X, y):\n",
        "        m, n = X.shape\n",
        "        self.num_classes = len(np.unique(y))  # Number of classes\n",
        "        self.weights = np.zeros((self.num_classes, n))  # weights for each class\n",
        "        self.bias = np.zeros(self.num_classes)  # bias for each class\n",
        "        \n",
        "        for c in range(self.num_classes):\n",
        "            # Create binary labels for class c vs all others\n",
        "            y_binary = np.where(y == c, 1, 0)\n",
        "            \n",
        "            # Initialize the weights and bias for this class\n",
        "            self.weights[c] = np.zeros(n)\n",
        "            self.bias[c] = 0\n",
        "            \n",
        "            # Train the classifier for class c\n",
        "            for _ in range(self.epochs):\n",
        "                # Linear model for class c\n",
        "                linear_model = np.dot(X, self.weights[c]) + self.bias[c]\n",
        "                y_predicted = self.sigmoid(linear_model)\n",
        "                \n",
        "                # Compute the gradients\n",
        "                dw = (1/m) * np.dot(X.T, (y_predicted - y_binary))\n",
        "                db = (1/m) * np.sum(y_predicted - y_binary)\n",
        "                \n",
        "                # Update the parameters for class c\n",
        "                self.weights[c] -= self.learning_rate * dw\n",
        "                self.bias[c] -= self.learning_rate * db\n",
        "    \n",
        "    def predict(self, X):\n",
        "        # Calculate probabilities for each class\n",
        "        scores = np.dot(X, self.weights.T) + self.bias  # Shape: (m, num_classes)\n",
        "        probabilities = self.sigmoid(scores)  # Apply sigmoid to each class\n",
        "        \n",
        "        # Get the index of the class with the highest probability for each sample\n",
        "        y_pred = np.argmax(probabilities, axis=1)\n",
        "        return y_pred\n"
      ],
      "outputs": [],
      "execution_count": 142,
      "metadata": {
        "trusted": true,
        "execution": {
          "iopub.status.busy": "2025-01-08T05:43:51.660696Z",
          "iopub.execute_input": "2025-01-08T05:43:51.661112Z",
          "iopub.status.idle": "2025-01-08T05:43:51.670858Z",
          "shell.execute_reply.started": "2025-01-08T05:43:51.661080Z",
          "shell.execute_reply": "2025-01-08T05:43:51.669233Z"
        }
      }
    },
    {
      "cell_type": "code",
      "source": [
        "# Assume X_train, X_test, y_train, y_test are already defined and are numpy arrays\n",
        "\n",
        "# Train the logistic regression model\n",
        "model = LogisticRegression(learning_rate=0.01, epochs=1000)\n",
        "model.fit(X_train, y_train)\n",
        "\n",
        "# Predict on the test set\n",
        "y_pred = model.predict(X_test)\n",
        "\n",
        "# Calculate accuracy\n",
        "accuracy = np.mean(y_pred == y_test)\n",
        "print(\"Multiclass Logistic Regression Accuracy:\", accuracy)\n"
      ],
      "outputs": [
        {
          "output_type": "stream",
          "name": "stdout",
          "text": "Multiclass Logistic Regression Accuracy: 0.8666666666666667\n"
        }
      ],
      "execution_count": 143,
      "metadata": {
        "trusted": true,
        "execution": {
          "iopub.status.busy": "2025-01-08T05:44:06.211753Z",
          "iopub.execute_input": "2025-01-08T05:44:06.212166Z",
          "iopub.status.idle": "2025-01-08T05:44:06.786641Z",
          "shell.execute_reply.started": "2025-01-08T05:44:06.212134Z",
          "shell.execute_reply": "2025-01-08T05:44:06.785476Z"
        }
      }
    },
    {
      "cell_type": "markdown",
      "source": [
        "## Sklearn"
      ],
      "metadata": {}
    },
    {
      "cell_type": "code",
      "source": [
        "from sklearn.linear_model import LogisticRegression\n",
        "\n",
        "clf = LogisticRegression(random_state=0).fit(X_train, y_train)\n",
        "\n",
        "y_pred = clf.predict(X_test)\n",
        "\n",
        "accuracy = np.mean(y_pred == y_test)\n",
        "print(\"Accuracy by logistic regression model: \", accuracy)"
      ],
      "outputs": [
        {
          "output_type": "stream",
          "name": "stdout",
          "text": "Accuracy by logistic regression model:  1.0\n"
        }
      ],
      "execution_count": 121,
      "metadata": {
        "trusted": true,
        "execution": {
          "iopub.status.busy": "2025-01-08T05:18:00.084826Z",
          "iopub.execute_input": "2025-01-08T05:18:00.085251Z",
          "iopub.status.idle": "2025-01-08T05:18:00.130668Z",
          "shell.execute_reply.started": "2025-01-08T05:18:00.085219Z",
          "shell.execute_reply": "2025-01-08T05:18:00.129338Z"
        }
      }
    },
    {
      "cell_type": "markdown",
      "source": [
        "## 5. LDA"
      ],
      "metadata": {}
    },
    {
      "cell_type": "markdown",
      "source": [
        "## Sklearn"
      ],
      "metadata": {}
    },
    {
      "cell_type": "code",
      "source": [
        "from sklearn.discriminant_analysis import LinearDiscriminantAnalysis\n",
        "clf = LinearDiscriminantAnalysis()\n",
        "clf.fit(X_train, y_train)\n",
        "y_pred = (clf.predict(X_test))\n",
        "accuracy = np.mean(y_pred == y_test)\n",
        "print(\"Accuracy of LDA: \", accuracy)"
      ],
      "outputs": [
        {
          "output_type": "stream",
          "name": "stdout",
          "text": "Accuracy of LDA:  1.0\n"
        }
      ],
      "execution_count": 123,
      "metadata": {
        "trusted": true,
        "execution": {
          "iopub.status.busy": "2025-01-08T05:20:30.884883Z",
          "iopub.execute_input": "2025-01-08T05:20:30.885245Z",
          "iopub.status.idle": "2025-01-08T05:20:30.897256Z",
          "shell.execute_reply.started": "2025-01-08T05:20:30.885217Z",
          "shell.execute_reply": "2025-01-08T05:20:30.896147Z"
        }
      }
    },
    {
      "cell_type": "markdown",
      "source": [
        "## 6. QDA"
      ],
      "metadata": {}
    },
    {
      "cell_type": "markdown",
      "source": [
        "## Sklearn"
      ],
      "metadata": {}
    },
    {
      "cell_type": "code",
      "source": [
        "from sklearn.discriminant_analysis import QuadraticDiscriminantAnalysis\n",
        "\n",
        "clf = QuadraticDiscriminantAnalysis()\n",
        "clf.fit(X_train, y_train)\n",
        "y_pred = clf.predict(X_test)\n",
        "print(\"Accuracy of QDA: \", np.mean(y_test == y_pred))"
      ],
      "outputs": [
        {
          "output_type": "stream",
          "name": "stdout",
          "text": "Accuracy of QDA:  1.0\n"
        }
      ],
      "execution_count": 124,
      "metadata": {
        "trusted": true,
        "execution": {
          "iopub.status.busy": "2025-01-08T05:21:40.295270Z",
          "iopub.execute_input": "2025-01-08T05:21:40.295660Z",
          "iopub.status.idle": "2025-01-08T05:21:40.321684Z",
          "shell.execute_reply.started": "2025-01-08T05:21:40.295632Z",
          "shell.execute_reply": "2025-01-08T05:21:40.320661Z"
        }
      }
    },
    {
      "cell_type": "markdown",
      "source": [
        "## 7. KNN"
      ],
      "metadata": {}
    },
    {
      "cell_type": "markdown",
      "source": [
        "## Scratch"
      ],
      "metadata": {}
    },
    {
      "cell_type": "code",
      "source": [
        "# sort elements of matrix and corresponding labels in ascending order.\n",
        "def get_sorted_train_labels(distance_matrix, labels):\n",
        "    sorted_labels = np.empty(distance_matrix.shape)\n",
        "    #print(sorted_labels.shape[0], sorted_labels.shape[1])\n",
        "    j = 0\n",
        "    \n",
        "    for row in range(distance_matrix.shape[0]):\n",
        "        dict = {}\n",
        "        for i in range(distance_matrix.shape[1]):\n",
        "            dict[distance_matrix[row][i]] = y_train[i]\n",
        "            \n",
        "        dist_list = list(dict.keys())\n",
        "        dist_list.sort()\n",
        "        for ele in range(len(dist_list)):\n",
        "            sorted_labels[j][ele] = int(dict[dist_list[ele]])    \n",
        "        j = j + 1\n",
        "\n",
        "        \n",
        "    return sorted_labels\n",
        "        \n",
        "    #raise NotImplementedError"
      ],
      "outputs": [],
      "execution_count": 150,
      "metadata": {
        "trusted": true,
        "execution": {
          "iopub.status.busy": "2025-01-08T05:47:41.870703Z",
          "iopub.execute_input": "2025-01-08T05:47:41.871092Z",
          "iopub.status.idle": "2025-01-08T05:47:41.879097Z",
          "shell.execute_reply.started": "2025-01-08T05:47:41.871059Z",
          "shell.execute_reply": "2025-01-08T05:47:41.877643Z"
        }
      }
    },
    {
      "cell_type": "code",
      "source": [
        "def pairwise_3(x, y):\n",
        "    \"\"\"\n",
        "    An optimize solution with no for loops\n",
        "  \n",
        "    \"\"\"\n",
        "    dist_mat = np.sum((x[:, None] - y) ** 2, axis = -1) ** (1/2)\n",
        "    return dist_mat"
      ],
      "outputs": [],
      "execution_count": 151,
      "metadata": {
        "trusted": true,
        "execution": {
          "iopub.status.busy": "2025-01-08T05:47:42.760441Z",
          "iopub.execute_input": "2025-01-08T05:47:42.760773Z",
          "iopub.status.idle": "2025-01-08T05:47:42.766163Z",
          "shell.execute_reply.started": "2025-01-08T05:47:42.760737Z",
          "shell.execute_reply": "2025-01-08T05:47:42.764752Z"
        }
      }
    },
    {
      "cell_type": "code",
      "source": [
        "distance_matrix = pairwise_3(X_test.values, X_train.values)\n",
        "distance_matrix"
      ],
      "outputs": [
        {
          "output_type": "execute_result",
          "execution_count": 154,
          "data": {
            "text/plain": "array([[1.2489996 , 0.53851648, 1.08627805, ..., 3.84447656, 0.78740079,\n        1.81383571],\n       [2.54754784, 3.78945906, 4.20356991, ..., 0.55677644, 2.74772633,\n        4.84561658],\n       [4.1       , 2.42487113, 2.03715488, ..., 6.5169011 , 3.6373067 ,\n        1.2489996 ],\n       ...,\n       [1.78325545, 0.64031242, 0.90553851, ..., 3.94461658, 1.28062485,\n        1.40356688],\n       [2.89482297, 4.20356991, 4.60868745, ..., 0.46904158, 3.12729915,\n        5.26782688],\n       [2.6795522 , 4.03360881, 4.46318272, ..., 0.58309519, 2.93598365,\n        5.13322511]])"
          },
          "metadata": {}
        }
      ],
      "execution_count": 154,
      "metadata": {
        "trusted": true,
        "execution": {
          "iopub.status.busy": "2025-01-08T05:47:51.261086Z",
          "iopub.execute_input": "2025-01-08T05:47:51.261428Z",
          "iopub.status.idle": "2025-01-08T05:47:51.270871Z",
          "shell.execute_reply.started": "2025-01-08T05:47:51.261401Z",
          "shell.execute_reply": "2025-01-08T05:47:51.269443Z"
        }
      }
    },
    {
      "cell_type": "code",
      "source": [
        "sorted_labels = get_sorted_train_labels(distance_matrix, y_train.values)\n",
        "sorted_labels"
      ],
      "outputs": [],
      "execution_count": null,
      "metadata": {
        "trusted": true
      }
    },
    {
      "cell_type": "code",
      "source": [
        "# First arrange the label sequence and then find the mode of k labels.\n",
        "def get_mode_of_labels(labels, k):\n",
        "    \"\"\"\n",
        "    Compute the mode of k labels\n",
        "    \"\"\"\n",
        "    \n",
        "    #print(labels)\n",
        "    final_labels = []\n",
        "    for row in labels:\n",
        "        dict = {}\n",
        "        #print(row)\n",
        "        for j in row:\n",
        "            #print(j)\n",
        "            dict[j] = 0\n",
        "            \n",
        "        #print(len(row))\n",
        "        for i in range(len(row)):\n",
        "            if (i == (k - 1)):\n",
        "                #print(i)\n",
        "                break\n",
        "            else:\n",
        "                dict[row[i]] = dict[row[i]] + 1\n",
        "                #print(dict[row[i]])\n",
        "\n",
        "        maxm = 0\n",
        "        label = 0   \n",
        "        #print(dict)\n",
        "        for key in dict.keys():\n",
        "            if(dict[key] > maxm):\n",
        "                label = key\n",
        "                maxm = dict[key]\n",
        "            elif(dict[key] == maxm):\n",
        "                if(label > key or label == 0):\n",
        "                    label = key\n",
        "                \n",
        "        #print(label)\n",
        "        final_labels.append(int(label))\n",
        "        #print(final_labels)\n",
        "\n",
        "    #print(final_labels)\n",
        "    return final_labels\n",
        "    \n",
        "   # raise NotImplementedError"
      ],
      "outputs": [],
      "execution_count": null,
      "metadata": {
        "trusted": true
      }
    },
    {
      "cell_type": "code",
      "source": [
        "# Now, using the functions created above, build a KNN.\n",
        "def predict(x_test, x_train, y_train, k, distance_function):\n",
        "\n",
        "    final_labels = []\n",
        "    \n",
        "    dist_mat = pairwise_3(x_test, x_train)\n",
        "    get_sorted_labels = get_sorted_train_labels(dist_mat, y_train)\n",
        "    final_labels = get_mode_of_labels(get_sorted_labels, k)\n",
        "    return final_labels\n",
        "   # raise NotImplementedError"
      ],
      "outputs": [],
      "execution_count": null,
      "metadata": {
        "trusted": true
      }
    },
    {
      "cell_type": "code",
      "source": [
        "prediction = predict(x_test, x_train, y_train, 3, pairwise_3)"
      ],
      "outputs": [],
      "execution_count": null,
      "metadata": {
        "trusted": true
      }
    },
    {
      "cell_type": "markdown",
      "source": [
        "## Sklearn"
      ],
      "metadata": {}
    },
    {
      "cell_type": "code",
      "source": [
        "\n",
        "from sklearn.neighbors import KNeighborsClassifier\n",
        "neigh = KNeighborsClassifier(n_neighbors=3)\n",
        "neigh.fit(X_train, y_train)\n",
        "y_pred = (neigh.predict(X_test))\n",
        "print(\"Accuracy of KNN sklearn: \", np.mean(y_test==y_pred))"
      ],
      "outputs": [
        {
          "output_type": "stream",
          "name": "stdout",
          "text": "Accuracy of KNN sklearn:  1.0\n"
        }
      ],
      "execution_count": 141,
      "metadata": {
        "trusted": true,
        "execution": {
          "iopub.status.busy": "2025-01-08T05:42:07.472921Z",
          "iopub.execute_input": "2025-01-08T05:42:07.473356Z",
          "iopub.status.idle": "2025-01-08T05:42:07.496274Z",
          "shell.execute_reply.started": "2025-01-08T05:42:07.473325Z",
          "shell.execute_reply": "2025-01-08T05:42:07.494992Z"
        }
      }
    },
    {
      "cell_type": "markdown",
      "source": [
        "## 8. Naive Bayesian"
      ],
      "metadata": {}
    },
    {
      "cell_type": "markdown",
      "source": [
        "## Scratch"
      ],
      "metadata": {}
    },
    {
      "cell_type": "code",
      "source": [
        "class NaiveBayes:\n",
        "    def fit(self, X, y):\n",
        "        n_samples, n_features = X.shape\n",
        "        self.classes = np.unique(y)\n",
        "        n_classes = len(self.classes)\n",
        "        \n",
        "        # Initialize mean, variance, and prior\n",
        "        self.mean = np.zeros(shape = (n_classes, n_features))\n",
        "        self.variance = np.zeros(shape = (n_classes, n_features))\n",
        "        self.prior = np.zeros(n_classes)\n",
        "        \n",
        "        for idx, cls in enumerate(self.classes):\n",
        "            X_class = X[y == cls] # Data points which have cls as their class\n",
        "            self.mean[idx, :] = X_class.mean(axis=0)\n",
        "            self.variance[idx, :] = X_class.var(axis=0)\n",
        "            self.prior[idx] = X_class.shape[0] / n_samples\n",
        "\n",
        "    def _calculate_likelihood(self, class_idx, x):\n",
        "        # Normal distribution PDF -> 1/sqrt(2*pi*variance) * (e^(-(x_std)**2/2))\n",
        "        #print(class_idx)\n",
        "        mean = self.mean[class_idx]\n",
        "        variance = self.variance[class_idx]\n",
        "        \n",
        "        # Avoid division by zero in case of zero variance\n",
        "        variance = np.where(variance == 0, 1e-10, variance)\n",
        "        #print(x, mean)\n",
        "        num = np.exp(-((x - mean) ** 2) / (2 * variance))\n",
        "        deno = np.sqrt(2 * np.pi * variance)\n",
        "        return num / deno\n",
        "\n",
        "    def _calculate_posterior(self, x):\n",
        "        posteriors = []\n",
        "        for idx, cls in enumerate(self.classes):\n",
        "            prior = self.prior[idx]\n",
        "            likelihood = self._calculate_likelihood(idx, x) # likelihood that this particular datasample is for this particular class\n",
        "            # P(theta/D) = P(D/theta) * P(theta) / P(D) -> P(D) is constant\n",
        "            posterior = np.prod(likelihood) * prior\n",
        "            posteriors.append(posterior)\n",
        "        return posteriors\n",
        "    \n",
        "    def predict(self, X):\n",
        "        predictions = []\n",
        "        for x in X:\n",
        "            posteriors = self._calculate_posterior(x)\n",
        "            # predicted class is the class for which the posteriors is maximum\n",
        "            predicted_class = self.classes[np.argmax(posteriors)]\n",
        "            predictions.append(predicted_class)\n",
        "        return np.array(predictions)\n"
      ],
      "outputs": [],
      "execution_count": 137,
      "metadata": {
        "trusted": true,
        "execution": {
          "iopub.status.busy": "2025-01-08T05:29:12.689324Z",
          "iopub.execute_input": "2025-01-08T05:29:12.689787Z",
          "iopub.status.idle": "2025-01-08T05:29:12.699654Z",
          "shell.execute_reply.started": "2025-01-08T05:29:12.689748Z",
          "shell.execute_reply": "2025-01-08T05:29:12.698280Z"
        }
      }
    },
    {
      "cell_type": "code",
      "source": [
        "X_train.values"
      ],
      "outputs": [
        {
          "output_type": "execute_result",
          "execution_count": 135,
          "data": {
            "text/plain": "array([[5.5, 2.4, 3.7, 1. ],\n       [6.3, 2.8, 5.1, 1.5],\n       [6.4, 3.1, 5.5, 1.8],\n       [6.6, 3. , 4.4, 1.4],\n       [7.2, 3.6, 6.1, 2.5],\n       [5.7, 2.9, 4.2, 1.3],\n       [7.6, 3. , 6.6, 2.1],\n       [5.6, 3. , 4.5, 1.5],\n       [5.1, 3.5, 1.4, 0.2],\n       [7.7, 2.8, 6.7, 2. ],\n       [5.8, 2.7, 4.1, 1. ],\n       [5.2, 3.4, 1.4, 0.2],\n       [5. , 3.5, 1.3, 0.3],\n       [5.1, 3.8, 1.9, 0.4],\n       [5. , 2. , 3.5, 1. ],\n       [6.3, 2.7, 4.9, 1.8],\n       [4.8, 3.4, 1.9, 0.2],\n       [5. , 3. , 1.6, 0.2],\n       [5.1, 3.3, 1.7, 0.5],\n       [5.6, 2.7, 4.2, 1.3],\n       [5.1, 3.4, 1.5, 0.2],\n       [5.7, 3. , 4.2, 1.2],\n       [7.7, 3.8, 6.7, 2.2],\n       [4.6, 3.2, 1.4, 0.2],\n       [6.2, 2.9, 4.3, 1.3],\n       [5.7, 2.5, 5. , 2. ],\n       [5.5, 4.2, 1.4, 0.2],\n       [6. , 3. , 4.8, 1.8],\n       [5.8, 2.7, 5.1, 1.9],\n       [6. , 2.2, 4. , 1. ],\n       [5.4, 3. , 4.5, 1.5],\n       [6.2, 3.4, 5.4, 2.3],\n       [5.5, 2.3, 4. , 1.3],\n       [5.4, 3.9, 1.7, 0.4],\n       [5. , 2.3, 3.3, 1. ],\n       [6.4, 2.7, 5.3, 1.9],\n       [5. , 3.3, 1.4, 0.2],\n       [5. , 3.2, 1.2, 0.2],\n       [5.5, 2.4, 3.8, 1.1],\n       [6.7, 3. , 5. , 1.7],\n       [4.9, 3.1, 1.5, 0.2],\n       [5.8, 2.8, 5.1, 2.4],\n       [5. , 3.4, 1.5, 0.2],\n       [5. , 3.5, 1.6, 0.6],\n       [5.9, 3.2, 4.8, 1.8],\n       [5.1, 2.5, 3. , 1.1],\n       [6.9, 3.2, 5.7, 2.3],\n       [6. , 2.7, 5.1, 1.6],\n       [6.1, 2.6, 5.6, 1.4],\n       [7.7, 3. , 6.1, 2.3],\n       [5.5, 2.5, 4. , 1.3],\n       [4.4, 2.9, 1.4, 0.2],\n       [4.3, 3. , 1.1, 0.1],\n       [6. , 2.2, 5. , 1.5],\n       [7.2, 3.2, 6. , 1.8],\n       [4.6, 3.1, 1.5, 0.2],\n       [5.1, 3.5, 1.4, 0.3],\n       [4.4, 3. , 1.3, 0.2],\n       [6.3, 2.5, 4.9, 1.5],\n       [6.3, 3.4, 5.6, 2.4],\n       [4.6, 3.4, 1.4, 0.3],\n       [6.8, 3. , 5.5, 2.1],\n       [6.3, 3.3, 6. , 2.5],\n       [4.7, 3.2, 1.3, 0.2],\n       [6.1, 2.9, 4.7, 1.4],\n       [6.5, 2.8, 4.6, 1.5],\n       [6.2, 2.8, 4.8, 1.8],\n       [7. , 3.2, 4.7, 1.4],\n       [6.4, 3.2, 5.3, 2.3],\n       [5.1, 3.8, 1.6, 0.2],\n       [6.9, 3.1, 5.4, 2.1],\n       [5.9, 3. , 4.2, 1.5],\n       [6.5, 3. , 5.2, 2. ],\n       [5.7, 2.6, 3.5, 1. ],\n       [5.2, 2.7, 3.9, 1.4],\n       [6.1, 3. , 4.6, 1.4],\n       [4.5, 2.3, 1.3, 0.3],\n       [6.6, 2.9, 4.6, 1.3],\n       [5.5, 2.6, 4.4, 1.2],\n       [5.3, 3.7, 1.5, 0.2],\n       [5.6, 3. , 4.1, 1.3],\n       [7.3, 2.9, 6.3, 1.8],\n       [6.7, 3.3, 5.7, 2.1],\n       [5.1, 3.7, 1.5, 0.4],\n       [4.9, 2.4, 3.3, 1. ],\n       [6.7, 3.3, 5.7, 2.5],\n       [7.2, 3. , 5.8, 1.6],\n       [4.9, 3.6, 1.4, 0.1],\n       [6.7, 3.1, 5.6, 2.4],\n       [4.9, 3. , 1.4, 0.2],\n       [6.9, 3.1, 4.9, 1.5],\n       [7.4, 2.8, 6.1, 1.9],\n       [6.3, 2.9, 5.6, 1.8],\n       [5.7, 2.8, 4.1, 1.3],\n       [6.5, 3. , 5.5, 1.8],\n       [6.3, 2.3, 4.4, 1.3],\n       [6.4, 2.9, 4.3, 1.3],\n       [5.6, 2.8, 4.9, 2. ],\n       [5.9, 3. , 5.1, 1.8],\n       [5.4, 3.4, 1.7, 0.2],\n       [6.1, 2.8, 4. , 1.3],\n       [4.9, 2.5, 4.5, 1.7],\n       [5.8, 4. , 1.2, 0.2],\n       [5.8, 2.6, 4. , 1.2],\n       [7.1, 3. , 5.9, 2.1]])"
          },
          "metadata": {}
        }
      ],
      "execution_count": 135,
      "metadata": {
        "trusted": true,
        "execution": {
          "iopub.status.busy": "2025-01-08T05:28:31.844773Z",
          "iopub.execute_input": "2025-01-08T05:28:31.845175Z",
          "iopub.status.idle": "2025-01-08T05:28:31.856635Z",
          "shell.execute_reply.started": "2025-01-08T05:28:31.845145Z",
          "shell.execute_reply": "2025-01-08T05:28:31.855343Z"
        }
      }
    },
    {
      "cell_type": "code",
      "source": [
        "# Naive Bayes Model Test\n",
        "model_naive_bayes = NaiveBayes()\n",
        "model_naive_bayes.fit(X_train.values, y_train.values)\n",
        "y_pred_naive_bayes = model_naive_bayes.predict(X_test.values)\n",
        "print(\"Naive Bayes Predictions:\", y_pred_naive_bayes)\n",
        "# Output the accuracy and predictions\n",
        "print(\"Naive Bayes Test Case Accuracy:\", np.mean(y_test.values== y_pred_naive_bayes))\n"
      ],
      "outputs": [
        {
          "output_type": "stream",
          "name": "stdout",
          "text": "Naive Bayes Predictions: [1 0 2 1 1 0 1 2 1 1 2 0 0 0 0 2 2 1 1 2 0 2 0 2 2 2 2 2 0 0 0 0 1 0 0 2 1\n 0 0 0 2 1 1 0 0]\nNaive Bayes Test Case Accuracy: 0.9777777777777777\n"
        }
      ],
      "execution_count": 138,
      "metadata": {
        "trusted": true,
        "execution": {
          "iopub.status.busy": "2025-01-08T05:29:15.874843Z",
          "iopub.execute_input": "2025-01-08T05:29:15.875213Z",
          "iopub.status.idle": "2025-01-08T05:29:15.888231Z",
          "shell.execute_reply.started": "2025-01-08T05:29:15.875182Z",
          "shell.execute_reply": "2025-01-08T05:29:15.886894Z"
        }
      }
    },
    {
      "cell_type": "markdown",
      "source": [
        "## Sklearn"
      ],
      "metadata": {}
    },
    {
      "cell_type": "code",
      "source": [
        "from sklearn.naive_bayes import GaussianNB\n",
        "\n",
        "gnb = GaussianNB()\n",
        "\n",
        "y_pred = gnb.fit(X_train, y_train).predict(X_test)\n",
        "print(\"Accuracy by Naive bayes sklearn: \", np.mean(y_test==y_pred))"
      ],
      "outputs": [
        {
          "output_type": "stream",
          "name": "stdout",
          "text": "Accuracy by Naive bayes sklearn:  0.9777777777777777\n"
        }
      ],
      "execution_count": 140,
      "metadata": {
        "trusted": true,
        "execution": {
          "iopub.status.busy": "2025-01-08T05:32:59.060150Z",
          "iopub.execute_input": "2025-01-08T05:32:59.060508Z",
          "iopub.status.idle": "2025-01-08T05:32:59.073668Z",
          "shell.execute_reply.started": "2025-01-08T05:32:59.060482Z",
          "shell.execute_reply": "2025-01-08T05:32:59.072342Z"
        }
      }
    },
    {
      "cell_type": "markdown",
      "source": [
        "# Q2)"
      ],
      "metadata": {}
    },
    {
      "cell_type": "code",
      "source": [
        "data = pd.read_csv(\"/kaggle/input/70k-job-applicants-data-human-resource/stackoverflow_full.csv\")\n",
        "data"
      ],
      "outputs": [
        {
          "output_type": "execute_result",
          "execution_count": 199,
          "data": {
            "text/plain": "       Unnamed: 0  Age Accessibility        EdLevel  Employment     Gender  \\\n0               0  <35            No         Master           1        Man   \n1               1  <35            No  Undergraduate           1        Man   \n2               2  <35            No         Master           1        Man   \n3               3  <35            No  Undergraduate           1        Man   \n4               4  >35            No            PhD           0        Man   \n...           ...  ...           ...            ...         ...        ...   \n73457       73457  <35            No  Undergraduate           1        Man   \n73458       73458  >35            No  Undergraduate           1        Man   \n73459       73459  <35            No  Undergraduate           1        Man   \n73460       73460  <35           Yes  Undergraduate           1        Man   \n73461       73461  <35            No         Master           1  NonBinary   \n\n      MentalHealth MainBranch  YearsCode  YearsCodePro  \\\n0               No        Dev          7             4   \n1               No        Dev         12             5   \n2               No        Dev         15             6   \n3               No        Dev          9             6   \n4               No     NotDev         40            30   \n...            ...        ...        ...           ...   \n73457           No        Dev          7             2   \n73458           No        Dev         21            16   \n73459           No        Dev          4             3   \n73460          Yes        Dev          5             1   \n73461           No        Dev         10             3   \n\n                                                 Country  PreviousSalary  \\\n0                                                 Sweden         51552.0   \n1                                                  Spain         46482.0   \n2                                                Germany         77290.0   \n3                                                 Canada         46135.0   \n4                                              Singapore        160932.0   \n...                                                  ...             ...   \n73457                                            Germany         41058.0   \n73458                           United States of America        115000.0   \n73459                                            Nigeria         57720.0   \n73460                           United States of America         70000.0   \n73461  United Kingdom of Great Britain and Northern I...         75384.0   \n\n                                          HaveWorkedWith  ComputerSkills  \\\n0                              C++;Python;Git;PostgreSQL               4   \n1      Bash/Shell;HTML/CSS;JavaScript;Node.js;SQL;Typ...              12   \n2                 C;C++;Java;Perl;Ruby;Git;Ruby on Rails               7   \n3      Bash/Shell;HTML/CSS;JavaScript;PHP;Ruby;SQL;Gi...              13   \n4                                             C++;Python               2   \n...                                                  ...             ...   \n73457  C#;HTML/CSS;JavaScript;TypeScript;Docker;Kuber...              13   \n73458  C#;HTML/CSS;Java;JavaScript;npm;ASP.NET Core ;...              11   \n73459  HTML/CSS;JavaScript;TypeScript;Docker;Express;...              12   \n73460  C#;HTML/CSS;JavaScript;SQL;TypeScript;npm;Yarn...              15   \n73461                                      Python;Docker               2   \n\n       Employed  \n0             0  \n1             1  \n2             0  \n3             0  \n4             0  \n...         ...  \n73457         1  \n73458         1  \n73459         1  \n73460         1  \n73461         0  \n\n[73462 rows x 15 columns]",
            "text/html": "<div>\n<style scoped>\n    .dataframe tbody tr th:only-of-type {\n        vertical-align: middle;\n    }\n\n    .dataframe tbody tr th {\n        vertical-align: top;\n    }\n\n    .dataframe thead th {\n        text-align: right;\n    }\n</style>\n<table border=\"1\" class=\"dataframe\">\n  <thead>\n    <tr style=\"text-align: right;\">\n      <th></th>\n      <th>Unnamed: 0</th>\n      <th>Age</th>\n      <th>Accessibility</th>\n      <th>EdLevel</th>\n      <th>Employment</th>\n      <th>Gender</th>\n      <th>MentalHealth</th>\n      <th>MainBranch</th>\n      <th>YearsCode</th>\n      <th>YearsCodePro</th>\n      <th>Country</th>\n      <th>PreviousSalary</th>\n      <th>HaveWorkedWith</th>\n      <th>ComputerSkills</th>\n      <th>Employed</th>\n    </tr>\n  </thead>\n  <tbody>\n    <tr>\n      <th>0</th>\n      <td>0</td>\n      <td>&lt;35</td>\n      <td>No</td>\n      <td>Master</td>\n      <td>1</td>\n      <td>Man</td>\n      <td>No</td>\n      <td>Dev</td>\n      <td>7</td>\n      <td>4</td>\n      <td>Sweden</td>\n      <td>51552.0</td>\n      <td>C++;Python;Git;PostgreSQL</td>\n      <td>4</td>\n      <td>0</td>\n    </tr>\n    <tr>\n      <th>1</th>\n      <td>1</td>\n      <td>&lt;35</td>\n      <td>No</td>\n      <td>Undergraduate</td>\n      <td>1</td>\n      <td>Man</td>\n      <td>No</td>\n      <td>Dev</td>\n      <td>12</td>\n      <td>5</td>\n      <td>Spain</td>\n      <td>46482.0</td>\n      <td>Bash/Shell;HTML/CSS;JavaScript;Node.js;SQL;Typ...</td>\n      <td>12</td>\n      <td>1</td>\n    </tr>\n    <tr>\n      <th>2</th>\n      <td>2</td>\n      <td>&lt;35</td>\n      <td>No</td>\n      <td>Master</td>\n      <td>1</td>\n      <td>Man</td>\n      <td>No</td>\n      <td>Dev</td>\n      <td>15</td>\n      <td>6</td>\n      <td>Germany</td>\n      <td>77290.0</td>\n      <td>C;C++;Java;Perl;Ruby;Git;Ruby on Rails</td>\n      <td>7</td>\n      <td>0</td>\n    </tr>\n    <tr>\n      <th>3</th>\n      <td>3</td>\n      <td>&lt;35</td>\n      <td>No</td>\n      <td>Undergraduate</td>\n      <td>1</td>\n      <td>Man</td>\n      <td>No</td>\n      <td>Dev</td>\n      <td>9</td>\n      <td>6</td>\n      <td>Canada</td>\n      <td>46135.0</td>\n      <td>Bash/Shell;HTML/CSS;JavaScript;PHP;Ruby;SQL;Gi...</td>\n      <td>13</td>\n      <td>0</td>\n    </tr>\n    <tr>\n      <th>4</th>\n      <td>4</td>\n      <td>&gt;35</td>\n      <td>No</td>\n      <td>PhD</td>\n      <td>0</td>\n      <td>Man</td>\n      <td>No</td>\n      <td>NotDev</td>\n      <td>40</td>\n      <td>30</td>\n      <td>Singapore</td>\n      <td>160932.0</td>\n      <td>C++;Python</td>\n      <td>2</td>\n      <td>0</td>\n    </tr>\n    <tr>\n      <th>...</th>\n      <td>...</td>\n      <td>...</td>\n      <td>...</td>\n      <td>...</td>\n      <td>...</td>\n      <td>...</td>\n      <td>...</td>\n      <td>...</td>\n      <td>...</td>\n      <td>...</td>\n      <td>...</td>\n      <td>...</td>\n      <td>...</td>\n      <td>...</td>\n      <td>...</td>\n    </tr>\n    <tr>\n      <th>73457</th>\n      <td>73457</td>\n      <td>&lt;35</td>\n      <td>No</td>\n      <td>Undergraduate</td>\n      <td>1</td>\n      <td>Man</td>\n      <td>No</td>\n      <td>Dev</td>\n      <td>7</td>\n      <td>2</td>\n      <td>Germany</td>\n      <td>41058.0</td>\n      <td>C#;HTML/CSS;JavaScript;TypeScript;Docker;Kuber...</td>\n      <td>13</td>\n      <td>1</td>\n    </tr>\n    <tr>\n      <th>73458</th>\n      <td>73458</td>\n      <td>&gt;35</td>\n      <td>No</td>\n      <td>Undergraduate</td>\n      <td>1</td>\n      <td>Man</td>\n      <td>No</td>\n      <td>Dev</td>\n      <td>21</td>\n      <td>16</td>\n      <td>United States of America</td>\n      <td>115000.0</td>\n      <td>C#;HTML/CSS;Java;JavaScript;npm;ASP.NET Core ;...</td>\n      <td>11</td>\n      <td>1</td>\n    </tr>\n    <tr>\n      <th>73459</th>\n      <td>73459</td>\n      <td>&lt;35</td>\n      <td>No</td>\n      <td>Undergraduate</td>\n      <td>1</td>\n      <td>Man</td>\n      <td>No</td>\n      <td>Dev</td>\n      <td>4</td>\n      <td>3</td>\n      <td>Nigeria</td>\n      <td>57720.0</td>\n      <td>HTML/CSS;JavaScript;TypeScript;Docker;Express;...</td>\n      <td>12</td>\n      <td>1</td>\n    </tr>\n    <tr>\n      <th>73460</th>\n      <td>73460</td>\n      <td>&lt;35</td>\n      <td>Yes</td>\n      <td>Undergraduate</td>\n      <td>1</td>\n      <td>Man</td>\n      <td>Yes</td>\n      <td>Dev</td>\n      <td>5</td>\n      <td>1</td>\n      <td>United States of America</td>\n      <td>70000.0</td>\n      <td>C#;HTML/CSS;JavaScript;SQL;TypeScript;npm;Yarn...</td>\n      <td>15</td>\n      <td>1</td>\n    </tr>\n    <tr>\n      <th>73461</th>\n      <td>73461</td>\n      <td>&lt;35</td>\n      <td>No</td>\n      <td>Master</td>\n      <td>1</td>\n      <td>NonBinary</td>\n      <td>No</td>\n      <td>Dev</td>\n      <td>10</td>\n      <td>3</td>\n      <td>United Kingdom of Great Britain and Northern I...</td>\n      <td>75384.0</td>\n      <td>Python;Docker</td>\n      <td>2</td>\n      <td>0</td>\n    </tr>\n  </tbody>\n</table>\n<p>73462 rows × 15 columns</p>\n</div>"
          },
          "metadata": {}
        }
      ],
      "execution_count": 199,
      "metadata": {
        "trusted": true,
        "execution": {
          "iopub.status.busy": "2025-01-08T06:46:48.771136Z",
          "iopub.execute_input": "2025-01-08T06:46:48.771469Z",
          "iopub.status.idle": "2025-01-08T06:46:49.111185Z",
          "shell.execute_reply.started": "2025-01-08T06:46:48.771443Z",
          "shell.execute_reply": "2025-01-08T06:46:49.109930Z"
        }
      }
    },
    {
      "cell_type": "code",
      "source": [
        "columns = data.columns"
      ],
      "outputs": [],
      "execution_count": 200,
      "metadata": {
        "trusted": true,
        "execution": {
          "iopub.status.busy": "2025-01-08T06:46:51.341666Z",
          "iopub.execute_input": "2025-01-08T06:46:51.342052Z",
          "iopub.status.idle": "2025-01-08T06:46:51.347339Z",
          "shell.execute_reply.started": "2025-01-08T06:46:51.341999Z",
          "shell.execute_reply": "2025-01-08T06:46:51.345924Z"
        }
      }
    },
    {
      "cell_type": "code",
      "source": [
        "categorical_columns = []\n",
        "\n",
        "for col in columns:\n",
        "    print(data[col].dtype)\n",
        "    if(data[col].dtype == \"object\" and col != \"HaveWorkedWith\"):\n",
        "        categorical_columns.append(col)\n",
        "        "
      ],
      "outputs": [
        {
          "output_type": "stream",
          "name": "stdout",
          "text": "int64\nobject\nobject\nobject\nint64\nobject\nobject\nobject\nint64\nint64\nobject\nfloat64\nobject\nint64\nint64\n"
        }
      ],
      "execution_count": 201,
      "metadata": {
        "trusted": true,
        "execution": {
          "iopub.status.busy": "2025-01-08T06:46:52.107890Z",
          "iopub.execute_input": "2025-01-08T06:46:52.108307Z",
          "iopub.status.idle": "2025-01-08T06:46:52.118576Z",
          "shell.execute_reply.started": "2025-01-08T06:46:52.108274Z",
          "shell.execute_reply": "2025-01-08T06:46:52.117258Z"
        }
      }
    },
    {
      "cell_type": "code",
      "source": [
        "# Drop unnecessary columns, such as 'Unnamed: 0' (if not needed)\n",
        "df = data\n",
        "df = df.drop(columns=['Unnamed: 0'])\n",
        "\n",
        "# One-hot encode categorical columns\n",
        "df_encoded = pd.get_dummies(df, columns=categorical_columns, drop_first=True)\n",
        "#print(df_encoded)\n",
        "\n",
        "# Handle any other specific transformations (if necessary)\n",
        "# For example, handling `HaveWorkedWith` as a text field\n",
        "#df_encoded['HaveWorkedWith'] = df_encoded['HaveWorkedWith'].apply(lambda x: x.split(';'))\n",
        "\n",
        "# Show the transformed DataFrame\n",
        "print(df_encoded.head())"
      ],
      "outputs": [
        {
          "output_type": "stream",
          "name": "stdout",
          "text": "   Employment  YearsCode  YearsCodePro  PreviousSalary  \\\n0           1          7             4         51552.0   \n1           1         12             5         46482.0   \n2           1         15             6         77290.0   \n3           1          9             6         46135.0   \n4           0         40            30        160932.0   \n\n                                      HaveWorkedWith  ComputerSkills  \\\n0                          C++;Python;Git;PostgreSQL               4   \n1  Bash/Shell;HTML/CSS;JavaScript;Node.js;SQL;Typ...              12   \n2             C;C++;Java;Perl;Ruby;Git;Ruby on Rails               7   \n3  Bash/Shell;HTML/CSS;JavaScript;PHP;Ruby;SQL;Gi...              13   \n4                                         C++;Python               2   \n\n   Employed  Age_>35  Accessibility_Yes  EdLevel_NoHigherEd  ...  \\\n0         0    False              False               False  ...   \n1         1    False              False               False  ...   \n2         0    False              False               False  ...   \n3         0    False              False               False  ...   \n4         0     True              False               False  ...   \n\n   Country_United Kingdom of Great Britain and Northern Ireland  \\\n0                                              False              \n1                                              False              \n2                                              False              \n3                                              False              \n4                                              False              \n\n   Country_United Republic of Tanzania  Country_United States of America  \\\n0                                False                             False   \n1                                False                             False   \n2                                False                             False   \n3                                False                             False   \n4                                False                             False   \n\n   Country_Uruguay  Country_Uzbekistan  \\\n0            False               False   \n1            False               False   \n2            False               False   \n3            False               False   \n4            False               False   \n\n   Country_Venezuela, Bolivarian Republic of...  Country_Viet Nam  \\\n0                                         False             False   \n1                                         False             False   \n2                                         False             False   \n3                                         False             False   \n4                                         False             False   \n\n   Country_Yemen  Country_Zambia  Country_Zimbabwe  \n0          False           False             False  \n1          False           False             False  \n2          False           False             False  \n3          False           False             False  \n4          False           False             False  \n\n[5 rows x 188 columns]\n"
        }
      ],
      "execution_count": 202,
      "metadata": {
        "trusted": true,
        "execution": {
          "iopub.status.busy": "2025-01-08T06:46:54.586709Z",
          "iopub.execute_input": "2025-01-08T06:46:54.587069Z",
          "iopub.status.idle": "2025-01-08T06:46:54.689399Z",
          "shell.execute_reply.started": "2025-01-08T06:46:54.587041Z",
          "shell.execute_reply": "2025-01-08T06:46:54.688295Z"
        }
      }
    },
    {
      "cell_type": "code",
      "source": [
        "languages_split = df['HaveWorkedWith'].str.split(';', expand=True)\n",
        "languages_flat = languages_split.melt(value_name='language')['language']\n",
        "\n",
        "unique_languages = languages_flat.dropna().unique()\n",
        "print(unique_languages, unique_languages.shape)\n"
      ],
      "outputs": [
        {
          "output_type": "stream",
          "name": "stdout",
          "text": "['C++' 'Bash/Shell' 'C' 'JavaScript' 'Python' 'Delphi' 'Assembly' 'C#'\n 'HTML/CSS' 'Dart' 'Scala' 'Go' 'Kotlin' 'SQL' 'Matlab' 'Groovy' 'Java'\n 'Ansible' 'Haskell' 'R' 'Objective-C' 'LISP' 'APL' 'Elixir' 'Swift' 'Git'\n 'PHP' 'Clojure' 'PowerShell' 'Crystal' 'Erlang' 'VBA' 'Rust' 'TypeScript'\n 'Ruby' 'Node.js' 'Julia' 'Perl' 'F#' 'COBOL' 'Docker' 'Microsoft Azure'\n 'Microsoft SQL Server' 'Drupal' 'Laravel' 'ASP.NET' 'AWS' 'MySQL'\n 'Angular' 'Oracle' 'Xamarin' 'Kubernetes' 'DigitalOcean' 'Yarn' 'SQLite'\n 'jQuery' 'VMware' 'MATLAB' 'Fortran' 'OCaml' 'npm' 'Lua' 'Puppet' 'Flow'\n 'Django' 'Unreal Engine' 'Terraform' 'React.js' 'SAS' 'Chef' 'Express'\n 'OVH' 'Homebrew' 'ASP.NET Core ' 'Spring' 'Firebase' 'PostgreSQL'\n 'FastAPI' 'Heroku' 'Unity 3D' 'Ruby on Rails'\n 'Oracle Cloud Infrastructure' 'IBM DB2' 'Vue.js' 'Google Cloud Platform'\n 'Redis' 'Elasticsearch' 'Deno' 'Gatsby' 'Angular.js' 'Cassandra'\n 'MongoDB' 'MariaDB' 'Symfony' 'Flask' 'Next.js'\n 'Firebase Realtime Database' 'Solidity' 'Google Cloud' 'Couchbase'\n 'OpenStack' 'Phoenix' 'Nuxt.js' 'Pulumi' 'Blazor' 'Colocation' 'Linode'\n 'Managed Hosting' 'IBM Cloud or Watson' 'Svelte' 'DynamoDB' 'CouchDB'\n 'Cloud Firestore' 'Neo4j' 'Fastify' 'Play Framework'] (116,)\n"
        }
      ],
      "execution_count": 203,
      "metadata": {
        "trusted": true,
        "execution": {
          "iopub.status.busy": "2025-01-08T06:46:57.319782Z",
          "iopub.execute_input": "2025-01-08T06:46:57.320191Z",
          "iopub.status.idle": "2025-01-08T06:47:00.315819Z",
          "shell.execute_reply.started": "2025-01-08T06:46:57.320159Z",
          "shell.execute_reply": "2025-01-08T06:47:00.314862Z"
        }
      }
    },
    {
      "cell_type": "code",
      "source": [
        "multi_hot_encoded = df_encoded['HaveWorkedWith'].str.get_dummies(sep=\";\")\n",
        "df_encoded = pd.concat([df_encoded, multi_hot_encoded], axis = 1)\n",
        "df_encoded.columns"
      ],
      "outputs": [
        {
          "output_type": "execute_result",
          "execution_count": 205,
          "data": {
            "text/plain": "Index(['Employment', 'YearsCode', 'YearsCodePro', 'PreviousSalary',\n       'HaveWorkedWith', 'ComputerSkills', 'Employed', 'Age_>35',\n       'Accessibility_Yes', 'EdLevel_NoHigherEd',\n       ...\n       'TypeScript', 'Unity 3D', 'Unreal Engine', 'VBA', 'VMware', 'Vue.js',\n       'Xamarin', 'Yarn', 'jQuery', 'npm'],\n      dtype='object', length=420)"
          },
          "metadata": {}
        }
      ],
      "execution_count": 205,
      "metadata": {
        "trusted": true,
        "execution": {
          "iopub.status.busy": "2025-01-08T06:47:06.352680Z",
          "iopub.execute_input": "2025-01-08T06:47:06.353072Z",
          "iopub.status.idle": "2025-01-08T06:47:10.541280Z",
          "shell.execute_reply.started": "2025-01-08T06:47:06.353005Z",
          "shell.execute_reply": "2025-01-08T06:47:10.540196Z"
        }
      }
    },
    {
      "cell_type": "code",
      "source": [
        "df_encoded.drop(columns = [\"HaveWorkedWith\"],axis=1, inplace = True)"
      ],
      "outputs": [],
      "execution_count": 210,
      "metadata": {
        "trusted": true,
        "execution": {
          "iopub.status.busy": "2025-01-08T06:47:37.854836Z",
          "iopub.execute_input": "2025-01-08T06:47:37.855241Z",
          "iopub.status.idle": "2025-01-08T06:47:37.943442Z",
          "shell.execute_reply.started": "2025-01-08T06:47:37.855206Z",
          "shell.execute_reply": "2025-01-08T06:47:37.942046Z"
        }
      }
    },
    {
      "cell_type": "code",
      "source": [
        "X = df_encoded.drop(columns = [\"Employed\"])\n",
        "y = df_encoded[\"Employed\"]"
      ],
      "outputs": [],
      "execution_count": 211,
      "metadata": {
        "trusted": true,
        "execution": {
          "iopub.status.busy": "2025-01-08T06:47:39.170062Z",
          "iopub.execute_input": "2025-01-08T06:47:39.170420Z",
          "iopub.status.idle": "2025-01-08T06:47:39.248108Z",
          "shell.execute_reply.started": "2025-01-08T06:47:39.170389Z",
          "shell.execute_reply": "2025-01-08T06:47:39.246881Z"
        }
      }
    },
    {
      "cell_type": "code",
      "source": [
        "from sklearn.model_selection import train_test_split, cross_val_score\n",
        "X_train, X_test, y_train, y_test = train_test_split(X, y, test_size=0.3, random_state=42) # 80% training data and 20% test data"
      ],
      "outputs": [],
      "execution_count": 212,
      "metadata": {
        "trusted": true,
        "execution": {
          "iopub.status.busy": "2025-01-08T06:47:40.266067Z",
          "iopub.execute_input": "2025-01-08T06:47:40.266393Z",
          "iopub.status.idle": "2025-01-08T06:47:40.442911Z",
          "shell.execute_reply.started": "2025-01-08T06:47:40.266364Z",
          "shell.execute_reply": "2025-01-08T06:47:40.441948Z"
        }
      }
    },
    {
      "cell_type": "code",
      "source": [
        "df_encoded"
      ],
      "outputs": [
        {
          "output_type": "execute_result",
          "execution_count": 213,
          "data": {
            "text/plain": "       Employment  YearsCode  YearsCodePro  PreviousSalary  ComputerSkills  \\\n0               1          7             4         51552.0               4   \n1               1         12             5         46482.0              12   \n2               1         15             6         77290.0               7   \n3               1          9             6         46135.0              13   \n4               0         40            30        160932.0               2   \n...           ...        ...           ...             ...             ...   \n73457           1          7             2         41058.0              13   \n73458           1         21            16        115000.0              11   \n73459           1          4             3         57720.0              12   \n73460           1          5             1         70000.0              15   \n73461           1         10             3         75384.0               2   \n\n       Employed  Age_>35  Accessibility_Yes  EdLevel_NoHigherEd  \\\n0             0    False              False               False   \n1             1    False              False               False   \n2             0    False              False               False   \n3             0    False              False               False   \n4             0     True              False               False   \n...         ...      ...                ...                 ...   \n73457         1    False              False               False   \n73458         1     True              False               False   \n73459         1    False              False               False   \n73460         1    False               True               False   \n73461         0    False              False               False   \n\n       EdLevel_Other  ...  TypeScript  Unity 3D  Unreal Engine  VBA  VMware  \\\n0              False  ...           0         0              0    0       0   \n1              False  ...           1         0              0    0       0   \n2              False  ...           0         0              0    0       0   \n3              False  ...           0         0              0    0       0   \n4              False  ...           0         0              0    0       0   \n...              ...  ...         ...       ...            ...  ...     ...   \n73457          False  ...           1         0              0    0       0   \n73458          False  ...           0         0              0    0       0   \n73459          False  ...           1         0              0    0       0   \n73460          False  ...           1         0              0    0       0   \n73461          False  ...           0         0              0    0       0   \n\n       Vue.js  Xamarin  Yarn  jQuery  npm  \n0           0        0     0       0    0  \n1           1        0     0       0    0  \n2           0        0     0       0    0  \n3           0        0     0       1    0  \n4           0        0     0       0    0  \n...       ...      ...   ...     ...  ...  \n73457       0        0     0       0    1  \n73458       0        0     0       0    1  \n73459       0        0     0       0    0  \n73460       0        0     1       1    1  \n73461       0        0     0       0    0  \n\n[73462 rows x 419 columns]",
            "text/html": "<div>\n<style scoped>\n    .dataframe tbody tr th:only-of-type {\n        vertical-align: middle;\n    }\n\n    .dataframe tbody tr th {\n        vertical-align: top;\n    }\n\n    .dataframe thead th {\n        text-align: right;\n    }\n</style>\n<table border=\"1\" class=\"dataframe\">\n  <thead>\n    <tr style=\"text-align: right;\">\n      <th></th>\n      <th>Employment</th>\n      <th>YearsCode</th>\n      <th>YearsCodePro</th>\n      <th>PreviousSalary</th>\n      <th>ComputerSkills</th>\n      <th>Employed</th>\n      <th>Age_&gt;35</th>\n      <th>Accessibility_Yes</th>\n      <th>EdLevel_NoHigherEd</th>\n      <th>EdLevel_Other</th>\n      <th>...</th>\n      <th>TypeScript</th>\n      <th>Unity 3D</th>\n      <th>Unreal Engine</th>\n      <th>VBA</th>\n      <th>VMware</th>\n      <th>Vue.js</th>\n      <th>Xamarin</th>\n      <th>Yarn</th>\n      <th>jQuery</th>\n      <th>npm</th>\n    </tr>\n  </thead>\n  <tbody>\n    <tr>\n      <th>0</th>\n      <td>1</td>\n      <td>7</td>\n      <td>4</td>\n      <td>51552.0</td>\n      <td>4</td>\n      <td>0</td>\n      <td>False</td>\n      <td>False</td>\n      <td>False</td>\n      <td>False</td>\n      <td>...</td>\n      <td>0</td>\n      <td>0</td>\n      <td>0</td>\n      <td>0</td>\n      <td>0</td>\n      <td>0</td>\n      <td>0</td>\n      <td>0</td>\n      <td>0</td>\n      <td>0</td>\n    </tr>\n    <tr>\n      <th>1</th>\n      <td>1</td>\n      <td>12</td>\n      <td>5</td>\n      <td>46482.0</td>\n      <td>12</td>\n      <td>1</td>\n      <td>False</td>\n      <td>False</td>\n      <td>False</td>\n      <td>False</td>\n      <td>...</td>\n      <td>1</td>\n      <td>0</td>\n      <td>0</td>\n      <td>0</td>\n      <td>0</td>\n      <td>1</td>\n      <td>0</td>\n      <td>0</td>\n      <td>0</td>\n      <td>0</td>\n    </tr>\n    <tr>\n      <th>2</th>\n      <td>1</td>\n      <td>15</td>\n      <td>6</td>\n      <td>77290.0</td>\n      <td>7</td>\n      <td>0</td>\n      <td>False</td>\n      <td>False</td>\n      <td>False</td>\n      <td>False</td>\n      <td>...</td>\n      <td>0</td>\n      <td>0</td>\n      <td>0</td>\n      <td>0</td>\n      <td>0</td>\n      <td>0</td>\n      <td>0</td>\n      <td>0</td>\n      <td>0</td>\n      <td>0</td>\n    </tr>\n    <tr>\n      <th>3</th>\n      <td>1</td>\n      <td>9</td>\n      <td>6</td>\n      <td>46135.0</td>\n      <td>13</td>\n      <td>0</td>\n      <td>False</td>\n      <td>False</td>\n      <td>False</td>\n      <td>False</td>\n      <td>...</td>\n      <td>0</td>\n      <td>0</td>\n      <td>0</td>\n      <td>0</td>\n      <td>0</td>\n      <td>0</td>\n      <td>0</td>\n      <td>0</td>\n      <td>1</td>\n      <td>0</td>\n    </tr>\n    <tr>\n      <th>4</th>\n      <td>0</td>\n      <td>40</td>\n      <td>30</td>\n      <td>160932.0</td>\n      <td>2</td>\n      <td>0</td>\n      <td>True</td>\n      <td>False</td>\n      <td>False</td>\n      <td>False</td>\n      <td>...</td>\n      <td>0</td>\n      <td>0</td>\n      <td>0</td>\n      <td>0</td>\n      <td>0</td>\n      <td>0</td>\n      <td>0</td>\n      <td>0</td>\n      <td>0</td>\n      <td>0</td>\n    </tr>\n    <tr>\n      <th>...</th>\n      <td>...</td>\n      <td>...</td>\n      <td>...</td>\n      <td>...</td>\n      <td>...</td>\n      <td>...</td>\n      <td>...</td>\n      <td>...</td>\n      <td>...</td>\n      <td>...</td>\n      <td>...</td>\n      <td>...</td>\n      <td>...</td>\n      <td>...</td>\n      <td>...</td>\n      <td>...</td>\n      <td>...</td>\n      <td>...</td>\n      <td>...</td>\n      <td>...</td>\n      <td>...</td>\n    </tr>\n    <tr>\n      <th>73457</th>\n      <td>1</td>\n      <td>7</td>\n      <td>2</td>\n      <td>41058.0</td>\n      <td>13</td>\n      <td>1</td>\n      <td>False</td>\n      <td>False</td>\n      <td>False</td>\n      <td>False</td>\n      <td>...</td>\n      <td>1</td>\n      <td>0</td>\n      <td>0</td>\n      <td>0</td>\n      <td>0</td>\n      <td>0</td>\n      <td>0</td>\n      <td>0</td>\n      <td>0</td>\n      <td>1</td>\n    </tr>\n    <tr>\n      <th>73458</th>\n      <td>1</td>\n      <td>21</td>\n      <td>16</td>\n      <td>115000.0</td>\n      <td>11</td>\n      <td>1</td>\n      <td>True</td>\n      <td>False</td>\n      <td>False</td>\n      <td>False</td>\n      <td>...</td>\n      <td>0</td>\n      <td>0</td>\n      <td>0</td>\n      <td>0</td>\n      <td>0</td>\n      <td>0</td>\n      <td>0</td>\n      <td>0</td>\n      <td>0</td>\n      <td>1</td>\n    </tr>\n    <tr>\n      <th>73459</th>\n      <td>1</td>\n      <td>4</td>\n      <td>3</td>\n      <td>57720.0</td>\n      <td>12</td>\n      <td>1</td>\n      <td>False</td>\n      <td>False</td>\n      <td>False</td>\n      <td>False</td>\n      <td>...</td>\n      <td>1</td>\n      <td>0</td>\n      <td>0</td>\n      <td>0</td>\n      <td>0</td>\n      <td>0</td>\n      <td>0</td>\n      <td>0</td>\n      <td>0</td>\n      <td>0</td>\n    </tr>\n    <tr>\n      <th>73460</th>\n      <td>1</td>\n      <td>5</td>\n      <td>1</td>\n      <td>70000.0</td>\n      <td>15</td>\n      <td>1</td>\n      <td>False</td>\n      <td>True</td>\n      <td>False</td>\n      <td>False</td>\n      <td>...</td>\n      <td>1</td>\n      <td>0</td>\n      <td>0</td>\n      <td>0</td>\n      <td>0</td>\n      <td>0</td>\n      <td>0</td>\n      <td>1</td>\n      <td>1</td>\n      <td>1</td>\n    </tr>\n    <tr>\n      <th>73461</th>\n      <td>1</td>\n      <td>10</td>\n      <td>3</td>\n      <td>75384.0</td>\n      <td>2</td>\n      <td>0</td>\n      <td>False</td>\n      <td>False</td>\n      <td>False</td>\n      <td>False</td>\n      <td>...</td>\n      <td>0</td>\n      <td>0</td>\n      <td>0</td>\n      <td>0</td>\n      <td>0</td>\n      <td>0</td>\n      <td>0</td>\n      <td>0</td>\n      <td>0</td>\n      <td>0</td>\n    </tr>\n  </tbody>\n</table>\n<p>73462 rows × 419 columns</p>\n</div>"
          },
          "metadata": {}
        }
      ],
      "execution_count": 213,
      "metadata": {
        "trusted": true,
        "execution": {
          "iopub.status.busy": "2025-01-08T06:47:41.317118Z",
          "iopub.execute_input": "2025-01-08T06:47:41.317474Z",
          "iopub.status.idle": "2025-01-08T06:47:41.355671Z",
          "shell.execute_reply.started": "2025-01-08T06:47:41.317447Z",
          "shell.execute_reply": "2025-01-08T06:47:41.354130Z"
        }
      }
    },
    {
      "cell_type": "markdown",
      "source": [
        "## Random forest"
      ],
      "metadata": {}
    },
    {
      "cell_type": "code",
      "source": [
        "clf = RandomForestClassifier()\n",
        "clf.fit(X_train, y_train)\n",
        "y_pred = clf.predict(X_test)\n",
        "accuracy_split = accuracy_score(y_test, y_pred)\n",
        "\n",
        "# 10-fold cross-validation\n",
        "cross_val_accuracy = cross_val_score(clf, X_train, y_train, cv=10, scoring='accuracy').mean()\n"
      ],
      "outputs": [],
      "execution_count": 216,
      "metadata": {
        "trusted": true,
        "execution": {
          "iopub.status.busy": "2025-01-08T06:49:49.342731Z",
          "iopub.execute_input": "2025-01-08T06:49:49.343165Z",
          "iopub.status.idle": "2025-01-08T06:52:07.399527Z",
          "shell.execute_reply.started": "2025-01-08T06:49:49.343130Z",
          "shell.execute_reply": "2025-01-08T06:52:07.398225Z"
        }
      }
    },
    {
      "cell_type": "markdown",
      "source": [
        "## SVM"
      ],
      "metadata": {}
    },
    {
      "cell_type": "code",
      "source": [
        "# Initialize the SVM classifier with One-vs-All strategy\n",
        "svm_ova = SVC(decision_function_shape='ovr')\n",
        "svm_ova.fit(X_train, y_train)\n",
        "\n",
        "# Predict and evaluate the One-vs-All model\n",
        "y_pred_ova = svm_ova.predict(X_test)\n",
        "cross_val_accuracy = cross_val_score(clf, X_train, y_train, cv=10, scoring='accuracy').mean()\n",
        "print(\"cross_val_accuracy: \",cross_val_accuracy)"
      ],
      "outputs": [],
      "execution_count": null,
      "metadata": {
        "trusted": true,
        "execution": {
          "iopub.status.busy": "2025-01-08T06:53:11.086921Z",
          "iopub.execute_input": "2025-01-08T06:53:11.087364Z"
        }
      }
    },
    {
      "cell_type": "markdown",
      "source": [
        "## Classification Tree"
      ],
      "metadata": {}
    },
    {
      "cell_type": "code",
      "source": [
        "\n",
        "from sklearn.tree import DecisionTreeClassifier\n",
        "\n",
        "clf = DecisionTreeClassifier(random_state=0)\n",
        "clf.fit(X_train, y_train)\n",
        "y_pred = clf.predict(X_test)\n",
        "cross_val_accuracy = cross_val_score(clf, X_train, y_train, cv=10, scoring='accuracy').mean()\n",
        "print(\"cross_val_accuracy: \",cross_val_accuracy)"
      ],
      "outputs": [],
      "execution_count": null,
      "metadata": {
        "trusted": true
      }
    },
    {
      "cell_type": "markdown",
      "source": [
        "## Logistic Regression"
      ],
      "metadata": {}
    },
    {
      "cell_type": "code",
      "source": [
        "# Assume X_train, X_test, y_train, y_test are already defined and are numpy arrays\n",
        "\n",
        "# Train the logistic regression model\n",
        "model = LogisticRegression(learning_rate=0.01, epochs=1000)\n",
        "model.fit(X_train, y_train)\n",
        "\n",
        "# Predict on the test set\n",
        "y_pred = model.predict(X_test)\n",
        "\n",
        "# Calculate accuracy\n",
        "cross_val_accuracy = cross_val_score(clf, X_train, y_train, cv=10, scoring='accuracy').mean()\n",
        "print(\"cross_val_accuracy: \",cross_val_accuracy)\n"
      ],
      "outputs": [],
      "execution_count": null,
      "metadata": {
        "trusted": true
      }
    },
    {
      "cell_type": "markdown",
      "source": [
        "## LDA"
      ],
      "metadata": {}
    },
    {
      "cell_type": "code",
      "source": [
        "from sklearn.discriminant_analysis import LinearDiscriminantAnalysis\n",
        "clf = LinearDiscriminantAnalysis()\n",
        "clf.fit(X_train, y_train)\n",
        "y_pred = (clf.predict(X_test))\n",
        "\n",
        "# Calculate accuracy\n",
        "cross_val_accuracy = cross_val_score(clf, X_train, y_train, cv=10, scoring='accuracy').mean()\n",
        "print(\"cross_val_accuracy: \",cross_val_accuracy)"
      ],
      "outputs": [],
      "execution_count": null,
      "metadata": {
        "trusted": true
      }
    },
    {
      "cell_type": "markdown",
      "source": [
        "## QDA"
      ],
      "metadata": {}
    },
    {
      "cell_type": "code",
      "source": [
        "from sklearn.discriminant_analysis import QuadraticDiscriminantAnalysis\n",
        "\n",
        "clf = QuadraticDiscriminantAnalysis()\n",
        "clf.fit(X_train, y_train)\n",
        "y_pred = clf.predict(X_test)\n",
        "cross_val_accuracy = cross_val_score(clf, X_train, y_train, cv=10, scoring='accuracy').mean()\n",
        "print(\"cross_val_accuracy: \",cross_val_accuracy)"
      ],
      "outputs": [],
      "execution_count": null,
      "metadata": {
        "trusted": true
      }
    },
    {
      "cell_type": "markdown",
      "source": [
        "## KNN"
      ],
      "metadata": {}
    },
    {
      "cell_type": "code",
      "source": [
        "\n",
        "from sklearn.neighbors import KNeighborsClassifier\n",
        "neigh = KNeighborsClassifier(n_neighbors=3)\n",
        "neigh.fit(X_train, y_train)\n",
        "y_pred = (neigh.predict(X_test))\n",
        "cross_val_accuracy = cross_val_score(clf, X_train, y_train, cv=10, scoring='accuracy').mean()\n",
        "print(\"cross_val_accuracy: \",cross_val_accuracy)"
      ],
      "outputs": [],
      "execution_count": null,
      "metadata": {
        "trusted": true
      }
    },
    {
      "cell_type": "markdown",
      "source": [
        "## Naive Bayesian"
      ],
      "metadata": {}
    },
    {
      "cell_type": "code",
      "source": [
        "from sklearn.naive_bayes import GaussianNB\n",
        "\n",
        "gnb = GaussianNB()\n",
        "\n",
        "y_pred = gnb.fit(X_train, y_train).predict(X_test)\n",
        "cross_val_accuracy = cross_val_score(clf, X_train, y_train, cv=10, scoring='accuracy').mean()\n",
        "print(\"cross_val_accuracy: \",cross_val_accuracy)"
      ],
      "outputs": [],
      "execution_count": null,
      "metadata": {
        "trusted": true
      }
    },
    {
      "cell_type": "markdown",
      "source": [
        "# Q3)"
      ],
      "metadata": {}
    },
    {
      "cell_type": "code",
      "source": [
        "import torch\n",
        "torch.cuda.is_available()\n"
      ],
      "outputs": [
        {
          "output_type": "execute_result",
          "execution_count": 156,
          "data": {
            "text/plain": "False"
          },
          "metadata": {}
        }
      ],
      "execution_count": 156,
      "metadata": {
        "trusted": true,
        "execution": {
          "iopub.status.busy": "2025-01-08T05:51:51.825779Z",
          "iopub.execute_input": "2025-01-08T05:51:51.826156Z",
          "iopub.status.idle": "2025-01-08T05:51:56.060225Z",
          "shell.execute_reply.started": "2025-01-08T05:51:51.826126Z",
          "shell.execute_reply": "2025-01-08T05:51:56.058978Z"
        }
      }
    },
    {
      "cell_type": "code",
      "source": [
        "torch.cuda.device_count()\n"
      ],
      "outputs": [
        {
          "output_type": "execute_result",
          "execution_count": 157,
          "data": {
            "text/plain": "0"
          },
          "metadata": {}
        }
      ],
      "execution_count": 157,
      "metadata": {
        "trusted": true,
        "execution": {
          "iopub.status.busy": "2025-01-08T05:51:56.061533Z",
          "iopub.execute_input": "2025-01-08T05:51:56.062000Z",
          "iopub.status.idle": "2025-01-08T05:51:56.069155Z",
          "shell.execute_reply.started": "2025-01-08T05:51:56.061968Z",
          "shell.execute_reply": "2025-01-08T05:51:56.067607Z"
        }
      }
    },
    {
      "cell_type": "code",
      "source": [
        "torch.cuda.current_device()\n"
      ],
      "outputs": [
        {
          "output_type": "error",
          "ename": "RuntimeError",
          "evalue": "Found no NVIDIA driver on your system. Please check that you have an NVIDIA GPU and installed a driver from http://www.nvidia.com/Download/index.aspx",
          "traceback": [
            "\u001b[0;31m---------------------------------------------------------------------------\u001b[0m",
            "\u001b[0;31mRuntimeError\u001b[0m                              Traceback (most recent call last)",
            "\u001b[0;32m<ipython-input-158-3380d2c12118>\u001b[0m in \u001b[0;36m<cell line: 1>\u001b[0;34m()\u001b[0m\n\u001b[0;32m----> 1\u001b[0;31m \u001b[0mtorch\u001b[0m\u001b[0;34m.\u001b[0m\u001b[0mcuda\u001b[0m\u001b[0;34m.\u001b[0m\u001b[0mcurrent_device\u001b[0m\u001b[0;34m(\u001b[0m\u001b[0;34m)\u001b[0m\u001b[0;34m\u001b[0m\u001b[0;34m\u001b[0m\u001b[0m\n\u001b[0m",
            "\u001b[0;32m/usr/local/lib/python3.10/dist-packages/torch/cuda/__init__.py\u001b[0m in \u001b[0;36mcurrent_device\u001b[0;34m()\u001b[0m\n\u001b[1;32m    876\u001b[0m \u001b[0;32mdef\u001b[0m \u001b[0mcurrent_device\u001b[0m\u001b[0;34m(\u001b[0m\u001b[0;34m)\u001b[0m \u001b[0;34m->\u001b[0m \u001b[0mint\u001b[0m\u001b[0;34m:\u001b[0m\u001b[0;34m\u001b[0m\u001b[0;34m\u001b[0m\u001b[0m\n\u001b[1;32m    877\u001b[0m     \u001b[0;34mr\"\"\"Return the index of a currently selected device.\"\"\"\u001b[0m\u001b[0;34m\u001b[0m\u001b[0;34m\u001b[0m\u001b[0m\n\u001b[0;32m--> 878\u001b[0;31m     \u001b[0m_lazy_init\u001b[0m\u001b[0;34m(\u001b[0m\u001b[0;34m)\u001b[0m\u001b[0;34m\u001b[0m\u001b[0;34m\u001b[0m\u001b[0m\n\u001b[0m\u001b[1;32m    879\u001b[0m     \u001b[0;32mreturn\u001b[0m \u001b[0mtorch\u001b[0m\u001b[0;34m.\u001b[0m\u001b[0m_C\u001b[0m\u001b[0;34m.\u001b[0m\u001b[0m_cuda_getDevice\u001b[0m\u001b[0;34m(\u001b[0m\u001b[0;34m)\u001b[0m\u001b[0;34m\u001b[0m\u001b[0;34m\u001b[0m\u001b[0m\n\u001b[1;32m    880\u001b[0m \u001b[0;34m\u001b[0m\u001b[0m\n",
            "\u001b[0;32m/usr/local/lib/python3.10/dist-packages/torch/cuda/__init__.py\u001b[0m in \u001b[0;36m_lazy_init\u001b[0;34m()\u001b[0m\n\u001b[1;32m    312\u001b[0m         \u001b[0;32mif\u001b[0m \u001b[0;34m\"CUDA_MODULE_LOADING\"\u001b[0m \u001b[0;32mnot\u001b[0m \u001b[0;32min\u001b[0m \u001b[0mos\u001b[0m\u001b[0;34m.\u001b[0m\u001b[0menviron\u001b[0m\u001b[0;34m:\u001b[0m\u001b[0;34m\u001b[0m\u001b[0;34m\u001b[0m\u001b[0m\n\u001b[1;32m    313\u001b[0m             \u001b[0mos\u001b[0m\u001b[0;34m.\u001b[0m\u001b[0menviron\u001b[0m\u001b[0;34m[\u001b[0m\u001b[0;34m\"CUDA_MODULE_LOADING\"\u001b[0m\u001b[0;34m]\u001b[0m \u001b[0;34m=\u001b[0m \u001b[0;34m\"LAZY\"\u001b[0m\u001b[0;34m\u001b[0m\u001b[0;34m\u001b[0m\u001b[0m\n\u001b[0;32m--> 314\u001b[0;31m         \u001b[0mtorch\u001b[0m\u001b[0;34m.\u001b[0m\u001b[0m_C\u001b[0m\u001b[0;34m.\u001b[0m\u001b[0m_cuda_init\u001b[0m\u001b[0;34m(\u001b[0m\u001b[0;34m)\u001b[0m\u001b[0;34m\u001b[0m\u001b[0;34m\u001b[0m\u001b[0m\n\u001b[0m\u001b[1;32m    315\u001b[0m         \u001b[0;31m# Some of the queued calls may reentrantly call _lazy_init();\u001b[0m\u001b[0;34m\u001b[0m\u001b[0;34m\u001b[0m\u001b[0m\n\u001b[1;32m    316\u001b[0m         \u001b[0;31m# we need to just return without initializing in that case.\u001b[0m\u001b[0;34m\u001b[0m\u001b[0;34m\u001b[0m\u001b[0m\n",
            "\u001b[0;31mRuntimeError\u001b[0m: Found no NVIDIA driver on your system. Please check that you have an NVIDIA GPU and installed a driver from http://www.nvidia.com/Download/index.aspx"
          ]
        }
      ],
      "execution_count": 158,
      "metadata": {
        "trusted": true,
        "execution": {
          "iopub.status.busy": "2025-01-08T05:51:56.070933Z",
          "iopub.execute_input": "2025-01-08T05:51:56.071262Z",
          "iopub.status.idle": "2025-01-08T05:51:56.124247Z",
          "shell.execute_reply.started": "2025-01-08T05:51:56.071233Z",
          "shell.execute_reply": "2025-01-08T05:51:56.122881Z"
        }
      }
    },
    {
      "cell_type": "code",
      "source": [
        "torch.cuda.device(0)\n"
      ],
      "outputs": [],
      "execution_count": null,
      "metadata": {
        "trusted": true,
        "execution": {
          "iopub.status.busy": "2025-01-08T05:51:56.124960Z",
          "iopub.status.idle": "2025-01-08T05:51:56.125318Z",
          "shell.execute_reply": "2025-01-08T05:51:56.125192Z"
        }
      }
    },
    {
      "cell_type": "code",
      "source": [
        "torch.cuda.get_device_name(0)\n"
      ],
      "outputs": [
        {
          "output_type": "error",
          "ename": "RuntimeError",
          "evalue": "Found no NVIDIA driver on your system. Please check that you have an NVIDIA GPU and installed a driver from http://www.nvidia.com/Download/index.aspx",
          "traceback": [
            "\u001b[0;31m---------------------------------------------------------------------------\u001b[0m",
            "\u001b[0;31mRuntimeError\u001b[0m                              Traceback (most recent call last)",
            "\u001b[0;32m<ipython-input-159-f9c260299c38>\u001b[0m in \u001b[0;36m<cell line: 1>\u001b[0;34m()\u001b[0m\n\u001b[0;32m----> 1\u001b[0;31m \u001b[0mtorch\u001b[0m\u001b[0;34m.\u001b[0m\u001b[0mcuda\u001b[0m\u001b[0;34m.\u001b[0m\u001b[0mget_device_name\u001b[0m\u001b[0;34m(\u001b[0m\u001b[0;36m0\u001b[0m\u001b[0;34m)\u001b[0m\u001b[0;34m\u001b[0m\u001b[0;34m\u001b[0m\u001b[0m\n\u001b[0m",
            "\u001b[0;32m/usr/local/lib/python3.10/dist-packages/torch/cuda/__init__.py\u001b[0m in \u001b[0;36mget_device_name\u001b[0;34m(device)\u001b[0m\n\u001b[1;32m    433\u001b[0m         \u001b[0mstr\u001b[0m\u001b[0;34m:\u001b[0m \u001b[0mthe\u001b[0m \u001b[0mname\u001b[0m \u001b[0mof\u001b[0m \u001b[0mthe\u001b[0m \u001b[0mdevice\u001b[0m\u001b[0;34m\u001b[0m\u001b[0;34m\u001b[0m\u001b[0m\n\u001b[1;32m    434\u001b[0m     \"\"\"\n\u001b[0;32m--> 435\u001b[0;31m     \u001b[0;32mreturn\u001b[0m \u001b[0mget_device_properties\u001b[0m\u001b[0;34m(\u001b[0m\u001b[0mdevice\u001b[0m\u001b[0;34m)\u001b[0m\u001b[0;34m.\u001b[0m\u001b[0mname\u001b[0m\u001b[0;34m\u001b[0m\u001b[0;34m\u001b[0m\u001b[0m\n\u001b[0m\u001b[1;32m    436\u001b[0m \u001b[0;34m\u001b[0m\u001b[0m\n\u001b[1;32m    437\u001b[0m \u001b[0;34m\u001b[0m\u001b[0m\n",
            "\u001b[0;32m/usr/local/lib/python3.10/dist-packages/torch/cuda/__init__.py\u001b[0m in \u001b[0;36mget_device_properties\u001b[0;34m(device)\u001b[0m\n\u001b[1;32m    463\u001b[0m         \u001b[0m_CudaDeviceProperties\u001b[0m\u001b[0;34m:\u001b[0m \u001b[0mthe\u001b[0m \u001b[0mproperties\u001b[0m \u001b[0mof\u001b[0m \u001b[0mthe\u001b[0m \u001b[0mdevice\u001b[0m\u001b[0;34m\u001b[0m\u001b[0;34m\u001b[0m\u001b[0m\n\u001b[1;32m    464\u001b[0m     \"\"\"\n\u001b[0;32m--> 465\u001b[0;31m     \u001b[0m_lazy_init\u001b[0m\u001b[0;34m(\u001b[0m\u001b[0;34m)\u001b[0m  \u001b[0;31m# will define _get_device_properties\u001b[0m\u001b[0;34m\u001b[0m\u001b[0;34m\u001b[0m\u001b[0m\n\u001b[0m\u001b[1;32m    466\u001b[0m     \u001b[0mdevice\u001b[0m \u001b[0;34m=\u001b[0m \u001b[0m_get_device_index\u001b[0m\u001b[0;34m(\u001b[0m\u001b[0mdevice\u001b[0m\u001b[0;34m,\u001b[0m \u001b[0moptional\u001b[0m\u001b[0;34m=\u001b[0m\u001b[0;32mTrue\u001b[0m\u001b[0;34m)\u001b[0m\u001b[0;34m\u001b[0m\u001b[0;34m\u001b[0m\u001b[0m\n\u001b[1;32m    467\u001b[0m     \u001b[0;32mif\u001b[0m \u001b[0mdevice\u001b[0m \u001b[0;34m<\u001b[0m \u001b[0;36m0\u001b[0m \u001b[0;32mor\u001b[0m \u001b[0mdevice\u001b[0m \u001b[0;34m>=\u001b[0m \u001b[0mdevice_count\u001b[0m\u001b[0;34m(\u001b[0m\u001b[0;34m)\u001b[0m\u001b[0;34m:\u001b[0m\u001b[0;34m\u001b[0m\u001b[0;34m\u001b[0m\u001b[0m\n",
            "\u001b[0;32m/usr/local/lib/python3.10/dist-packages/torch/cuda/__init__.py\u001b[0m in \u001b[0;36m_lazy_init\u001b[0;34m()\u001b[0m\n\u001b[1;32m    312\u001b[0m         \u001b[0;32mif\u001b[0m \u001b[0;34m\"CUDA_MODULE_LOADING\"\u001b[0m \u001b[0;32mnot\u001b[0m \u001b[0;32min\u001b[0m \u001b[0mos\u001b[0m\u001b[0;34m.\u001b[0m\u001b[0menviron\u001b[0m\u001b[0;34m:\u001b[0m\u001b[0;34m\u001b[0m\u001b[0;34m\u001b[0m\u001b[0m\n\u001b[1;32m    313\u001b[0m             \u001b[0mos\u001b[0m\u001b[0;34m.\u001b[0m\u001b[0menviron\u001b[0m\u001b[0;34m[\u001b[0m\u001b[0;34m\"CUDA_MODULE_LOADING\"\u001b[0m\u001b[0;34m]\u001b[0m \u001b[0;34m=\u001b[0m \u001b[0;34m\"LAZY\"\u001b[0m\u001b[0;34m\u001b[0m\u001b[0;34m\u001b[0m\u001b[0m\n\u001b[0;32m--> 314\u001b[0;31m         \u001b[0mtorch\u001b[0m\u001b[0;34m.\u001b[0m\u001b[0m_C\u001b[0m\u001b[0;34m.\u001b[0m\u001b[0m_cuda_init\u001b[0m\u001b[0;34m(\u001b[0m\u001b[0;34m)\u001b[0m\u001b[0;34m\u001b[0m\u001b[0;34m\u001b[0m\u001b[0m\n\u001b[0m\u001b[1;32m    315\u001b[0m         \u001b[0;31m# Some of the queued calls may reentrantly call _lazy_init();\u001b[0m\u001b[0;34m\u001b[0m\u001b[0;34m\u001b[0m\u001b[0m\n\u001b[1;32m    316\u001b[0m         \u001b[0;31m# we need to just return without initializing in that case.\u001b[0m\u001b[0;34m\u001b[0m\u001b[0;34m\u001b[0m\u001b[0m\n",
            "\u001b[0;31mRuntimeError\u001b[0m: Found no NVIDIA driver on your system. Please check that you have an NVIDIA GPU and installed a driver from http://www.nvidia.com/Download/index.aspx"
          ]
        }
      ],
      "execution_count": 159,
      "metadata": {
        "trusted": true,
        "execution": {
          "iopub.status.busy": "2025-01-08T05:52:00.396235Z",
          "iopub.execute_input": "2025-01-08T05:52:00.396571Z",
          "iopub.status.idle": "2025-01-08T05:52:00.415906Z",
          "shell.execute_reply.started": "2025-01-08T05:52:00.396544Z",
          "shell.execute_reply": "2025-01-08T05:52:00.414184Z"
        }
      }
    },
    {
      "cell_type": "code",
      "source": [
        "import tensorflow as tf\n",
        "tf.test.is_gpu_available()\n"
      ],
      "outputs": [
        {
          "output_type": "execute_result",
          "execution_count": 160,
          "data": {
            "text/plain": "False"
          },
          "metadata": {}
        }
      ],
      "execution_count": 160,
      "metadata": {
        "trusted": true,
        "execution": {
          "iopub.status.busy": "2025-01-08T05:52:13.568393Z",
          "iopub.execute_input": "2025-01-08T05:52:13.568767Z",
          "iopub.status.idle": "2025-01-08T05:52:24.649927Z",
          "shell.execute_reply.started": "2025-01-08T05:52:13.568736Z",
          "shell.execute_reply": "2025-01-08T05:52:24.648781Z"
        }
      }
    },
    {
      "cell_type": "code",
      "source": [
        "tf.test.is_built_with_cuda()"
      ],
      "outputs": [
        {
          "output_type": "execute_result",
          "execution_count": 161,
          "data": {
            "text/plain": "True"
          },
          "metadata": {}
        }
      ],
      "execution_count": 161,
      "metadata": {
        "trusted": true,
        "execution": {
          "iopub.status.busy": "2025-01-08T05:52:24.651372Z",
          "iopub.execute_input": "2025-01-08T05:52:24.652476Z",
          "iopub.status.idle": "2025-01-08T05:52:24.659781Z",
          "shell.execute_reply.started": "2025-01-08T05:52:24.652426Z",
          "shell.execute_reply": "2025-01-08T05:52:24.658297Z"
        }
      }
    },
    {
      "cell_type": "code",
      "source": [],
      "outputs": [],
      "execution_count": null,
      "metadata": {
        "trusted": true
      }
    }
  ],
  "metadata": {
    "kernelspec": {
      "name": "python",
      "language": "python",
      "display_name": "Pyolite (preview)"
    },
    "language_info": {
      "codemirror_mode": {
        "name": "python",
        "version": 3
      },
      "file_extension": ".py",
      "mimetype": "text/x-python",
      "name": "python",
      "nbconvert_exporter": "python",
      "pygments_lexer": "ipython3",
      "version": "3.8"
    },
    "kaggle": {
      "accelerator": "none",
      "dataSources": [
        {
          "sourceId": 6110205,
          "sourceType": "datasetVersion",
          "datasetId": 3500688
        }
      ],
      "dockerImageVersionId": 30822,
      "isInternetEnabled": true,
      "language": "python",
      "sourceType": "notebook",
      "isGpuEnabled": false
    },
    "kernel_info": {
      "name": "python"
    },
    "nteract": {
      "version": "nteract-front-end@1.0.0"
    }
  },
  "nbformat": 4,
  "nbformat_minor": 4
}