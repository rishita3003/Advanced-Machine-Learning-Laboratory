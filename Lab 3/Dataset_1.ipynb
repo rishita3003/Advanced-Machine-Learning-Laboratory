{
 "cells": [
  {
   "cell_type": "code",
   "execution_count": 1,
   "metadata": {},
   "outputs": [],
   "source": [
    "import pandas as pd\n",
    "import torch\n",
    "import torch.nn as nn\n",
    "import torch.optim as optim\n",
    "from sklearn.model_selection import train_test_split\n",
    "from sklearn.preprocessing import StandardScaler\n",
    "from torch.utils.data import DataLoader, TensorDataset"
   ]
  },
  {
   "cell_type": "code",
   "execution_count": 2,
   "metadata": {},
   "outputs": [],
   "source": [
    "\n",
    "# Load and preprocess Heart Disease dataset\n",
    "#url = \"https://archive.ics.uci.edu/ml/machine-learning-databases/heart-disease/processed.cleveland.data\"\n",
    "url = \"https://archive.ics.uci.edu/ml/machine-learning-databases/00267/data_banknote_authentication.txt\"\n",
    "columns = ['c1','c2','c3','c4','target']\n",
    "data = pd.read_csv(url, header=None, names=columns, na_values=\"?\")\n",
    "data = data.dropna()  # Remove rows with missing values\n",
    "data['target'] = (data['target'] > 0).astype(int)  # Convert to binary classification"
   ]
  },
  {
   "cell_type": "code",
   "execution_count": 3,
   "metadata": {},
   "outputs": [],
   "source": [
    "X = data.drop(columns=['target']).values\n",
    "y = data['target'].values\n",
    "\n",
    "scaler = StandardScaler()\n",
    "X = scaler.fit_transform(X)\n",
    "\n",
    "X_train, X_test, y_train, y_test = train_test_split(X, y, test_size=0.2, random_state=42)"
   ]
  },
  {
   "cell_type": "code",
   "execution_count": 4,
   "metadata": {},
   "outputs": [],
   "source": [
    "# Convert data to PyTorch tensors\n",
    "X_train_tensor = torch.tensor(X_train, dtype=torch.float32)\n",
    "y_train_tensor = torch.tensor(y_train, dtype=torch.float32).unsqueeze(1)\n",
    "X_test_tensor = torch.tensor(X_test, dtype=torch.float32)\n",
    "y_test_tensor = torch.tensor(y_test, dtype=torch.float32).unsqueeze(1)\n",
    "\n",
    "# Create DataLoader for training\n",
    "train_dataset = TensorDataset(X_train_tensor, y_train_tensor)\n",
    "train_loader = DataLoader(train_dataset, batch_size=8, shuffle=True)\n",
    "\n"
   ]
  },
  {
   "cell_type": "code",
   "execution_count": 5,
   "metadata": {},
   "outputs": [
    {
     "data": {
      "text/plain": [
       "tensor([[-0.6412,  1.8034, -0.1640, -3.0268],\n",
       "        [ 0.8237,  0.8412, -0.5721,  0.6033],\n",
       "        [-1.6618, -1.6679,  2.4234, -0.3362],\n",
       "        ...,\n",
       "        [-2.6287,  1.2563, -0.2859, -1.5941],\n",
       "        [-1.3704,  0.1309, -0.2869,  0.0806],\n",
       "        [-1.3344, -1.5618,  2.3313,  0.2955]])"
      ]
     },
     "execution_count": 5,
     "metadata": {},
     "output_type": "execute_result"
    }
   ],
   "source": [
    "X_train_tensor"
   ]
  },
  {
   "cell_type": "code",
   "execution_count": 6,
   "metadata": {},
   "outputs": [],
   "source": [
    "# Define MLP model in PyTorch\n",
    "class MLPModel(nn.Module):\n",
    "    def __init__(self, input_dim):\n",
    "        super(MLPModel, self).__init__()\n",
    "        self.model = nn.Sequential(\n",
    "            nn.Linear(input_dim, 64), # here only the parameters are also initialized along with layer initializationx\n",
    "            nn.ReLU(),\n",
    "            nn.Linear(64, 32),\n",
    "            nn.ReLU(),\n",
    "            nn.Linear(32, 1),\n",
    "            nn.Sigmoid()\n",
    "        )\n",
    "\n",
    "    def forward(self, x):\n",
    "        return self.model(x)\n",
    "\n"
   ]
  },
  {
   "cell_type": "code",
   "execution_count": 7,
   "metadata": {},
   "outputs": [
    {
     "name": "stdout",
     "output_type": "stream",
     "text": [
      "Epoch 1/10, Loss: 0.0751, Accuracy: 0.9754\n",
      "Epoch 2/10, Loss: 0.0020, Accuracy: 1.0000\n",
      "Epoch 3/10, Loss: 0.0004, Accuracy: 1.0000\n",
      "Epoch 4/10, Loss: 0.0002, Accuracy: 1.0000\n",
      "Epoch 5/10, Loss: 0.0001, Accuracy: 1.0000\n",
      "Epoch 6/10, Loss: 0.0000, Accuracy: 1.0000\n",
      "Epoch 7/10, Loss: 0.0000, Accuracy: 1.0000\n",
      "Epoch 8/10, Loss: 0.0000, Accuracy: 1.0000\n",
      "Epoch 9/10, Loss: 0.0000, Accuracy: 1.0000\n",
      "Epoch 10/10, Loss: 0.0000, Accuracy: 1.0000\n"
     ]
    }
   ],
   "source": [
    "# Initialize model, loss function, and optimizer\n",
    "input_dim = X.shape[1]\n",
    "model = MLPModel(input_dim)\n",
    "criterion = nn.BCELoss()  # Binary Cross-Entropy Loss - (-)summation yilog(yi) + (1-yi)log(1-yi)\n",
    "optimizer = optim.Adam(model.parameters(), lr=0.01)\n",
    "# You're not initializing the parameters here - you're just telling the optimizer which already-initialized parameters it should update during training.\n",
    "\n",
    "# model.parameters() returns all the learnable parameters (weights and biases) in your neural network. \n",
    "# These are what actually need to be adjusted during training.\n",
    "\n",
    "# Train the model\n",
    "epochs = 10\n",
    "for epoch in range(epochs):\n",
    "    model.train() # the model is already loaded as the MLPModel which we defined earlier as the MLP model of sequential layers, \n",
    "                    #giving the input dimension to it will help train our model, as the parameters are already sent through the optimizer\n",
    "    epoch_loss = 0.0\n",
    "    correct = 0\n",
    "    total = 0\n",
    "\n",
    "    for batch_X, batch_y in train_loader: # the train loader has already loaded the datasets in batches for computational and memory efficiency\n",
    "        optimizer.zero_grad()\n",
    "        outputs = model(batch_X)\n",
    "        loss = criterion(outputs, batch_y) # between the predicted and the actual results\n",
    "        loss.backward() # backpropagation - the gradients are calculated and stored in the parameters\n",
    "        optimizer.step() # the optimizer updates the parameters based on the gradients - here since the optimizer was Adam, \n",
    "                            #it will also take care of the collected gradients till now in its memory to update the parameters\n",
    "\n",
    "        epoch_loss += loss.item()\n",
    "        predictions = (outputs > 0.5).float()\n",
    "        correct += (predictions == batch_y).sum().item()\n",
    "        total += batch_y.size(0)\n",
    "\n",
    "    epoch_accuracy = correct / total\n",
    "    print(f\"Epoch {epoch + 1}/{epochs}, Loss: {epoch_loss / len(train_loader):.4f}, Accuracy: {epoch_accuracy:.4f}\")\n"
   ]
  },
  {
   "cell_type": "code",
   "execution_count": 13,
   "metadata": {},
   "outputs": [
    {
     "name": "stdout",
     "output_type": "stream",
     "text": [
      "torch.Size([64, 4]) Parameter containing:\n",
      "tensor([[ 0.2431,  0.2937,  0.4261, -0.0763],\n",
      "        [-0.3492, -0.1016,  0.1126,  0.5517],\n",
      "        [-0.1472, -0.7323, -0.5310, -0.1282],\n",
      "        [ 0.3078,  0.2575,  0.2702, -0.2157],\n",
      "        [-0.7805, -0.2198,  0.4188, -0.1937],\n",
      "        [ 0.2641,  0.1909, -0.3700,  0.3855],\n",
      "        [-0.1722, -0.0128,  0.0093, -0.2590],\n",
      "        [-0.4595, -0.5983,  0.0303,  0.6933],\n",
      "        [ 0.4209, -0.0123, -0.5859,  0.2946],\n",
      "        [-0.2537, -0.3402,  0.3776,  0.0172],\n",
      "        [-0.2348, -0.3116, -0.6831, -0.1642],\n",
      "        [ 0.1291,  0.0414, -0.0528, -0.0078],\n",
      "        [ 0.2477,  0.4191, -0.1264,  0.1928],\n",
      "        [-0.3030, -0.4143, -0.7405,  0.5518],\n",
      "        [-0.5149,  0.2769,  0.1737,  0.4580],\n",
      "        [ 0.1256,  0.4595,  0.1579,  0.2145],\n",
      "        [-0.3981, -0.2900,  0.0916,  0.8037],\n",
      "        [-0.6968, -0.2609, -0.2678,  0.0559],\n",
      "        [-0.0937, -0.0985, -0.3988, -0.1695],\n",
      "        [-0.5530, -0.5737, -0.4545, -0.0641],\n",
      "        [ 0.1439,  0.5648,  0.1640, -0.4087],\n",
      "        [-0.2291, -0.1724, -0.3707,  0.6611],\n",
      "        [ 0.0807, -0.2130, -0.4283, -0.1354],\n",
      "        [-0.2660, -0.0436,  0.4406, -0.2051],\n",
      "        [-0.0255,  0.1378, -0.3853,  0.1007],\n",
      "        [-0.4984,  0.3199,  0.3510,  0.3575],\n",
      "        [ 0.4881,  0.5219,  0.6356, -0.1123],\n",
      "        [ 0.3336,  0.4037,  0.5625, -0.2350],\n",
      "        [ 0.3217, -0.0407, -0.3420,  0.2891],\n",
      "        [ 0.5806, -0.4176,  0.4629, -0.1571],\n",
      "        [ 0.2924, -0.2011,  0.0335,  0.6592],\n",
      "        [ 0.0769,  0.2892,  0.2666,  0.3048],\n",
      "        [ 0.5003, -0.3736,  0.3493,  0.0956],\n",
      "        [ 0.5082,  0.5730, -0.2232,  0.3650],\n",
      "        [ 0.4231, -0.1450, -0.3765, -0.0099],\n",
      "        [ 0.3384,  0.1784,  0.1167, -0.3399],\n",
      "        [ 0.5613, -0.0406,  0.2401,  0.1480],\n",
      "        [ 0.2720,  0.7925,  0.3308,  0.1846],\n",
      "        [-0.1097, -0.0800, -0.2872, -0.2179],\n",
      "        [-0.3471, -0.3574, -0.3133,  0.0440],\n",
      "        [-0.1763, -0.3857, -0.2028,  0.3939],\n",
      "        [ 0.7893, -0.3779,  0.2141,  0.4543],\n",
      "        [-0.6507, -0.4773, -0.0413, -0.2094],\n",
      "        [-0.1374,  0.0523, -0.5774,  0.3075],\n",
      "        [-0.0311, -0.5150, -0.7236, -0.0170],\n",
      "        [-0.1124, -0.3024, -0.2160,  0.0339],\n",
      "        [ 0.5061,  0.2238,  0.4141,  0.4056],\n",
      "        [ 0.0899,  0.3733,  0.5680, -0.2415],\n",
      "        [ 0.5759, -0.2609, -0.3394,  0.1942],\n",
      "        [-0.6893, -0.5337, -0.2736, -0.3608],\n",
      "        [ 0.2347,  0.8285,  0.2949,  0.1950],\n",
      "        [ 0.5976, -0.1138, -0.4197,  0.0401],\n",
      "        [ 0.2618,  0.0087,  0.0020, -0.1644],\n",
      "        [ 0.1729, -0.0299,  0.4291,  0.1314],\n",
      "        [ 0.5960, -0.2951,  0.1119, -0.0268],\n",
      "        [ 0.2863, -0.2136, -0.0365,  0.4801],\n",
      "        [-0.0152,  0.1789,  0.2383, -0.0480],\n",
      "        [ 0.5685, -0.4903,  0.0707, -0.1369],\n",
      "        [-0.0030,  0.0367,  0.1256, -0.0796],\n",
      "        [-0.6324, -0.4507, -0.0216,  0.0349],\n",
      "        [ 0.1364,  0.5388, -0.3341,  0.4001],\n",
      "        [-0.0680,  0.0170, -0.1241,  0.0203],\n",
      "        [-0.4719,  0.3963, -0.0725,  0.4321],\n",
      "        [ 0.3258,  0.7440, -0.0448,  0.1015]], requires_grad=True)\n",
      "torch.Size([64]) Parameter containing:\n",
      "tensor([ 0.4140, -0.2100,  0.4524,  0.4836, -0.3781,  0.4625, -0.5109, -0.3771,\n",
      "         0.1209, -0.5225,  0.2005, -0.4149, -0.3710, -0.1772,  0.4703,  0.2355,\n",
      "        -0.3416, -0.1135, -0.0163, -0.0543, -0.0086, -0.2968, -0.0600, -0.3025,\n",
      "        -0.5312,  0.1306,  0.6445,  0.5026, -0.4429,  0.4660, -0.2697, -0.3946,\n",
      "         0.5471, -0.3454, -0.0765, -0.1401,  0.1962,  0.4703,  0.0150,  0.2984,\n",
      "        -0.2128, -0.0637, -0.1839,  0.2292,  0.2310,  0.2750,  0.4105,  0.4997,\n",
      "        -0.1659, -0.1795,  0.4470, -0.0993, -0.4133,  0.3584, -0.0871,  0.3982,\n",
      "         0.6450, -0.1602,  0.2104,  0.0291, -0.1572, -0.2702,  0.4079,  0.4291],\n",
      "       requires_grad=True)\n",
      "torch.Size([32, 64]) Parameter containing:\n",
      "tensor([[ 0.3833, -0.1445, -0.0913,  ..., -0.0397,  0.0823,  0.1935],\n",
      "        [-0.1259, -0.1298, -0.1057,  ..., -0.0766,  0.0488,  0.0555],\n",
      "        [-0.0073, -0.0592, -0.0994,  ..., -0.0101,  0.0417, -0.0546],\n",
      "        ...,\n",
      "        [ 0.4435,  0.0121, -0.0626,  ..., -0.0365,  0.0191,  0.1372],\n",
      "        [-0.1296,  0.0099, -0.1622,  ..., -0.1085, -0.1765, -0.1071],\n",
      "        [ 0.3809, -0.1358, -0.1993,  ..., -0.0369,  0.1655,  0.2074]],\n",
      "       requires_grad=True)\n",
      "torch.Size([32]) Parameter containing:\n",
      "tensor([ 0.1074, -0.0506, -0.1620,  0.1487, -0.0631,  0.0123,  0.1554,  0.1859,\n",
      "         0.0413, -0.0534, -0.1666, -0.1370,  0.1366,  0.1521, -0.0490,  0.0267,\n",
      "         0.0717,  0.0587,  0.0451,  0.1719,  0.0845, -0.0446, -0.0987, -0.0894,\n",
      "         0.0928,  0.0810,  0.0792,  0.1816,  0.1402,  0.0455,  0.0156,  0.2488],\n",
      "       requires_grad=True)\n",
      "torch.Size([1, 32]) Parameter containing:\n",
      "tensor([[-0.4238, -0.0102, -0.0242, -0.5184, -0.0145, -0.2965, -0.3593, -0.5050,\n",
      "          0.4602,  0.4196, -0.0748,  0.8902,  0.3652, -0.1746, -0.0903,  0.4430,\n",
      "         -0.5216,  0.3954, -0.4190, -0.4566,  0.4765,  0.4828,  0.0303,  0.1738,\n",
      "         -0.4792, -0.3515,  0.4636, -0.4741,  0.3610, -0.3912,  0.0497, -0.4505]],\n",
      "       requires_grad=True)\n",
      "torch.Size([1]) Parameter containing:\n",
      "tensor([-0.1984], requires_grad=True)\n"
     ]
    }
   ],
   "source": [
    "for param in model.parameters():\n",
    "    print(param.size(), param)"
   ]
  },
  {
   "cell_type": "code",
   "execution_count": 14,
   "metadata": {},
   "outputs": [
    {
     "name": "stdout",
     "output_type": "stream",
     "text": [
      "Test Loss: 0.0000, Test Accuracy: 1.0000\n"
     ]
    }
   ],
   "source": [
    "# Evaluate the model - using the weights and biases that were updated during training (from the last epoch)\n",
    "model.eval() #Sets a flag that tells all layers they're in evaluation mode\n",
    "#Disables dropout (all neurons become active) \n",
    "with torch.no_grad(): # so that gradients are not tracked during evaluation\n",
    "    test_outputs = model(X_test_tensor)\n",
    "    test_loss = criterion(test_outputs, y_test_tensor).item()\n",
    "    test_predictions = (test_outputs > 0.5).float()\n",
    "    test_accuracy = (test_predictions == y_test_tensor).float().mean().item()\n",
    "\n",
    "print(f\"Test Loss: {test_loss:.4f}, Test Accuracy: {test_accuracy:.4f}\")"
   ]
  },
  {
   "cell_type": "markdown",
   "metadata": {},
   "source": [
    "## Some ways to improve the performance of models MLP -\n",
    "1. Experiment with the architecture structure, add batchnorm and drop out layers , try with more relevant activation functions\n",
    "2. K fold cross validation for more robust evaluation\n",
    "3. Ensemble methods\n",
    "4. Data Augmentation \n"
   ]
  }
 ],
 "metadata": {
  "kernelspec": {
   "display_name": "myenv",
   "language": "python",
   "name": "python3"
  },
  "language_info": {
   "codemirror_mode": {
    "name": "ipython",
    "version": 3
   },
   "file_extension": ".py",
   "mimetype": "text/x-python",
   "name": "python",
   "nbconvert_exporter": "python",
   "pygments_lexer": "ipython3",
   "version": "3.12.6"
  }
 },
 "nbformat": 4,
 "nbformat_minor": 2
}
