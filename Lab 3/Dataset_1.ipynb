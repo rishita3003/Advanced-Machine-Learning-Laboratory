{
 "cells": [
  {
   "cell_type": "code",
   "execution_count": 1,
   "metadata": {},
   "outputs": [],
   "source": [
    "import pandas as pd\n",
    "import torch\n",
    "import torch.nn as nn\n",
    "import torch.optim as optim\n",
    "from sklearn.model_selection import train_test_split\n",
    "from sklearn.preprocessing import StandardScaler\n",
    "from torch.utils.data import DataLoader, TensorDataset"
   ]
  },
  {
   "cell_type": "code",
   "execution_count": 2,
   "metadata": {},
   "outputs": [],
   "source": [
    "\n",
    "# Load and preprocess Heart Disease dataset\n",
    "#url = \"https://archive.ics.uci.edu/ml/machine-learning-databases/heart-disease/processed.cleveland.data\"\n",
    "url = \"https://archive.ics.uci.edu/ml/machine-learning-databases/00267/data_banknote_authentication.txt\"\n",
    "columns = ['c1','c2','c3','c4','target']\n",
    "data = pd.read_csv(url, header=None, names=columns, na_values=\"?\")\n",
    "data = data.dropna()  # Remove rows with missing values\n",
    "data['target'] = (data['target'] > 0).astype(int)  # Convert to binary classification"
   ]
  },
  {
   "cell_type": "code",
   "execution_count": 3,
   "metadata": {},
   "outputs": [],
   "source": [
    "X = data.drop(columns=['target']).values\n",
    "y = data['target'].values\n",
    "\n",
    "scaler = StandardScaler()\n",
    "X = scaler.fit_transform(X)\n",
    "\n",
    "X_train, X_test, y_train, y_test = train_test_split(X, y, test_size=0.2, random_state=42)"
   ]
  },
  {
   "cell_type": "code",
   "execution_count": 8,
   "metadata": {},
   "outputs": [],
   "source": [
    "# Convert data to PyTorch tensors\n",
    "X_train_tensor = torch.tensor(X_train, dtype=torch.float32)\n",
    "y_train_tensor = torch.tensor(y_train, dtype=torch.float32).unsqueeze(1)\n",
    "X_test_tensor = torch.tensor(X_test, dtype=torch.float32)\n",
    "y_test_tensor = torch.tensor(y_test, dtype=torch.float32).unsqueeze(1)\n",
    "\n",
    "# Create DataLoader for training\n",
    "train_dataset = TensorDataset(X_train_tensor, y_train_tensor)\n",
    "train_loader = DataLoader(train_dataset, batch_size=8, shuffle=True)\n",
    "\n"
   ]
  },
  {
   "cell_type": "code",
   "execution_count": 9,
   "metadata": {},
   "outputs": [
    {
     "data": {
      "text/plain": [
       "tensor([[-0.6412,  1.8034, -0.1640, -3.0268],\n",
       "        [ 0.8237,  0.8412, -0.5721,  0.6033],\n",
       "        [-1.6618, -1.6679,  2.4234, -0.3362],\n",
       "        ...,\n",
       "        [-2.6287,  1.2563, -0.2859, -1.5941],\n",
       "        [-1.3704,  0.1309, -0.2869,  0.0806],\n",
       "        [-1.3344, -1.5618,  2.3313,  0.2955]])"
      ]
     },
     "execution_count": 9,
     "metadata": {},
     "output_type": "execute_result"
    }
   ],
   "source": [
    "X_train_tensor"
   ]
  },
  {
   "cell_type": "code",
   "execution_count": null,
   "metadata": {},
   "outputs": [],
   "source": [
    "# Define MLP model in PyTorch\n",
    "class MLPModel(nn.Module):\n",
    "    def __init__(self, input_dim):\n",
    "        super(MLPModel, self).__init__()\n",
    "        self.model = nn.Sequential(\n",
    "            nn.Linear(input_dim, 64), # here only the parameters are also initialized along with layer initializationx\n",
    "            nn.ReLU(),\n",
    "            nn.Linear(64, 32),\n",
    "            nn.ReLU(),\n",
    "            nn.Linear(32, 1),\n",
    "            nn.Sigmoid()\n",
    "        )\n",
    "\n",
    "    def forward(self, x):\n",
    "        return self.model(x)\n",
    "\n"
   ]
  },
  {
   "cell_type": "code",
   "execution_count": null,
   "metadata": {},
   "outputs": [
    {
     "name": "stdout",
     "output_type": "stream",
     "text": [
      "Epoch 1/10, Loss: 0.0964, Accuracy: 0.9599\n",
      "Epoch 2/10, Loss: 0.0035, Accuracy: 1.0000\n",
      "Epoch 3/10, Loss: 0.0232, Accuracy: 0.9936\n",
      "Epoch 4/10, Loss: 0.0011, Accuracy: 1.0000\n",
      "Epoch 5/10, Loss: 0.0002, Accuracy: 1.0000\n",
      "Epoch 6/10, Loss: 0.0001, Accuracy: 1.0000\n",
      "Epoch 7/10, Loss: 0.0001, Accuracy: 1.0000\n",
      "Epoch 8/10, Loss: 0.0000, Accuracy: 1.0000\n",
      "Epoch 9/10, Loss: 0.0000, Accuracy: 1.0000\n",
      "Epoch 10/10, Loss: 0.0000, Accuracy: 1.0000\n"
     ]
    }
   ],
   "source": [
    "# Initialize model, loss function, and optimizer\n",
    "input_dim = X.shape[1]\n",
    "model = MLPModel(input_dim)\n",
    "criterion = nn.BCELoss()  # Binary Cross-Entropy Loss - (-)summation yilog(yi) + (1-yi)log(1-yi)\n",
    "optimizer = optim.Adam(model.parameters(), lr=0.01)\n",
    "# You're not initializing the parameters here - you're just telling the optimizer which already-initialized parameters it should update during training.\n",
    "\n",
    "# model.parameters() returns all the learnable parameters (weights and biases) in your neural network. \n",
    "# These are what actually need to be adjusted during training.\n",
    "\n",
    "# Train the model\n",
    "epochs = 10\n",
    "for epoch in range(epochs):\n",
    "    model.train() # the model is already loaded as the MLPModel which we defined earlier as the MLP model of sequential layers, \n",
    "                    #giving the input dimension to it will help train our model, as the parameters are already sent through the optimizer\n",
    "    epoch_loss = 0.0\n",
    "    correct = 0\n",
    "    total = 0\n",
    "\n",
    "    for batch_X, batch_y in train_loader: # the train loader has already loaded the datasets in batches for computational and memory efficiency\n",
    "        optimizer.zero_grad()\n",
    "        outputs = model(batch_X)\n",
    "        loss = criterion(outputs, batch_y) # between the predicted and the actual results\n",
    "        loss.backward() # backpropagation - the gradients are calculated and stored in the parameters\n",
    "        optimizer.step() # the optimizer updates the parameters based on the gradients - here since the optimizer was Adam, \n",
    "                            #it will also take care of the collected gradients till now in its memory to update the parameters\n",
    "\n",
    "        epoch_loss += loss.item()\n",
    "        predictions = (outputs > 0.5).float()\n",
    "        correct += (predictions == batch_y).sum().item()\n",
    "        total += batch_y.size(0)\n",
    "\n",
    "    epoch_accuracy = correct / total\n",
    "    print(f\"Epoch {epoch + 1}/{epochs}, Loss: {epoch_loss / len(train_loader):.4f}, Accuracy: {epoch_accuracy:.4f}\")\n"
   ]
  },
  {
   "cell_type": "code",
   "execution_count": null,
   "metadata": {},
   "outputs": [
    {
     "name": "stdout",
     "output_type": "stream",
     "text": [
      "Test Loss: 0.0000, Test Accuracy: 1.0000\n"
     ]
    }
   ],
   "source": [
    "# Evaluate the model - using the weights and biases that were updated during training (from the last epoch)\n",
    "model.eval() #Sets a flag that tells all layers they're in evaluation mode\n",
    "#Disables dropout (all neurons become active) \n",
    "with torch.no_grad(): # so that gradients are not tracked during evaluation\n",
    "    test_outputs = model(X_test_tensor)\n",
    "    test_loss = criterion(test_outputs, y_test_tensor).item()\n",
    "    test_predictions = (test_outputs > 0.5).float()\n",
    "    test_accuracy = (test_predictions == y_test_tensor).float().mean().item()\n",
    "\n",
    "print(f\"Test Loss: {test_loss:.4f}, Test Accuracy: {test_accuracy:.4f}\")"
   ]
  },
  {
   "cell_type": "markdown",
   "metadata": {},
   "source": [
    "## Some ways to improve the performance of models MLP -\n",
    "1. Experiment with the architecture structure, add batchnorm and drop out layers , try with more relevant activation functions\n",
    "2. K fold cross validation for more robust evaluation\n",
    "3. Ensemble methods\n",
    "4. Data Augmentation \n"
   ]
  }
 ],
 "metadata": {
  "kernelspec": {
   "display_name": "myenv",
   "language": "python",
   "name": "python3"
  },
  "language_info": {
   "codemirror_mode": {
    "name": "ipython",
    "version": 3
   },
   "file_extension": ".py",
   "mimetype": "text/x-python",
   "name": "python",
   "nbconvert_exporter": "python",
   "pygments_lexer": "ipython3",
   "version": "3.12.6"
  }
 },
 "nbformat": 4,
 "nbformat_minor": 2
}
